{
  "nbformat": 4,
  "nbformat_minor": 0,
  "metadata": {
    "colab": {
      "name": "TP2",
      "provenance": [],
      "authorship_tag": "ABX9TyPoGuIPaFN9qly/9k07EajQ",
      "include_colab_link": true
    },
    "kernelspec": {
      "name": "python3",
      "display_name": "Python 3"
    },
    "language_info": {
      "name": "python"
    }
  },
  "cells": [
    {
      "cell_type": "markdown",
      "metadata": {
        "id": "view-in-github",
        "colab_type": "text"
      },
      "source": [
        "<a href=\"https://colab.research.google.com/github/Hyro9533/sharing-code/blob/main/TP2.ipynb\" target=\"_parent\"><img src=\"https://colab.research.google.com/assets/colab-badge.svg\" alt=\"Open In Colab\"/></a>"
      ]
    },
    {
      "cell_type": "markdown",
      "source": [
        "**TP Outils Logiciels 2**\n",
        "\n",
        "*Intégration Numérique*\n",
        "\n",
        "---\n",
        "\n",
        "Edité par MONTGUILLON Jonathan TP4."
      ],
      "metadata": {
        "id": "nIdgPHNkc8RI"
      }
    },
    {
      "cell_type": "markdown",
      "source": [
        "<img src = \"http://www.stillincontact.com/images/ecoles/10792.jpg\">"
      ],
      "metadata": {
        "id": "SxoxHLXut6W5"
      }
    },
    {
      "cell_type": "markdown",
      "source": [
        "Définissions la fonction commune : "
      ],
      "metadata": {
        "id": "fkG6D0nRv8bB"
      }
    },
    {
      "cell_type": "code",
      "source": [
        "!pip install colorama\n",
        "import colorama\n",
        "from colorama import init, Fore, Back, Style\n",
        "\n",
        "''' \n",
        "Fore: BLACK, RED, GREEN, YELLOW, BLUE, MAGENTA, CYAN, WHITE, RESET.\n",
        "Back: BLACK, RED, GREEN, YELLOW, BLUE, MAGENTA, CYAN, WHITE, RESET.\n",
        "Style: DIM, NORMAL, BRIGHT, RESET_ALL\n",
        "'''\n",
        "\n",
        "def functionOriginal(x):\n",
        "    return 1/x\n",
        "\n",
        "def functionOriginalPrinter():\n",
        "    return \"1/x\"\n",
        "\n",
        "def errorCalcul(origin,calculate):\n",
        "    return abs((origin - calculate)/(origin)) * 100\n",
        "\n",
        "def jumpPrinter(loop,reset):\n",
        "    if reset:\n",
        "        resetPrinter()\n",
        "    for k in range(loop):\n",
        "        print(\"\\n\")\n",
        "    return \n",
        "\n",
        "def resetPrinter():\n",
        "    return print(Style.RESET_ALL)\n",
        "\n",
        "from scipy.integrate import quad \t\n",
        "\n",
        "import numpy as np\n",
        "import matplotlib.pyplot as plt\n",
        "\n",
        "jumpPrinter(1,True)\n",
        "print(Back.GREEN + Fore.BLACK +\"Tous les calculs seront arrondies à 10**-4.\")\n",
        "resetPrinter()"
      ],
      "metadata": {
        "colab": {
          "base_uri": "https://localhost:8080/"
        },
        "id": "Az1JFPCZvYvU",
        "outputId": "cfb1eebb-9a06-4cab-ca11-c199d8fabaed"
      },
      "execution_count": 119,
      "outputs": [
        {
          "output_type": "stream",
          "name": "stdout",
          "text": [
            "Looking in indexes: https://pypi.org/simple, https://us-python.pkg.dev/colab-wheels/public/simple/\n",
            "Requirement already satisfied: colorama in /usr/local/lib/python3.7/dist-packages (0.4.4)\n",
            "\u001b[0m\n",
            "\n",
            "\n",
            "\u001b[42m\u001b[30mTous les calculs seront arrondies à 10**-4.\n",
            "\u001b[0m\n"
          ]
        }
      ]
    },
    {
      "cell_type": "markdown",
      "source": [
        "Ainsi que ses bornes"
      ],
      "metadata": {
        "id": "2gbOmSNtwCWs"
      }
    },
    {
      "cell_type": "code",
      "source": [
        "print(Back.RED + Fore.WHITE + \"Merci d'entrer un entier positif ou négatif, pour les 2 variables suivantes !\")\n",
        "jumpPrinter(1,True)\n",
        "print(Back.BLACK)\n",
        "\n",
        "borneA = 'a'\n",
        "while(borneA.lstrip('-').isdigit() == False):\n",
        "    borneA = (input(\"- Entrez la borne 'a' : \"))\n",
        "borneA = int(borneA)\n",
        "\n",
        "borneB = 'b'\n",
        "while(borneB.lstrip('-').isdigit() == False):\n",
        "    borneB = (input(\"- Entrez la borne 'a' : \")) \n",
        "borneB = int(borneB)\n",
        "\n",
        "jumpPrinter(2,True)\n",
        "print(Style.BRIGHT + Fore.YELLOW + \"Les bornes sont respectivement : \",borneA,\" & \",borneB,\" .\")\n",
        "resetPrinter()"
      ],
      "metadata": {
        "colab": {
          "base_uri": "https://localhost:8080/"
        },
        "id": "4wBaqXNdwDsl",
        "outputId": "a8ba6c6a-0cf4-4a76-f045-f8726db7d2b7"
      },
      "execution_count": 120,
      "outputs": [
        {
          "output_type": "stream",
          "name": "stdout",
          "text": [
            "\u001b[41m\u001b[37mMerci d'entrer un entier positif ou négatif, pour les 2 variables suivantes !\n",
            "\u001b[0m\n",
            "\n",
            "\n",
            "\u001b[40m\n",
            "- Entrez la borne 'a' : 1\n",
            "- Entrez la borne 'a' : 4\n",
            "\u001b[0m\n",
            "\n",
            "\n",
            "\n",
            "\n",
            "\u001b[1m\u001b[33mLes bornes sont respectivement :  1  &  4  .\n",
            "\u001b[0m\n"
          ]
        }
      ]
    },
    {
      "cell_type": "markdown",
      "source": [
        "Calculons son intégrale via une librairie :"
      ],
      "metadata": {
        "id": "vKtn_5o10sbB"
      }
    },
    {
      "cell_type": "code",
      "source": [
        "print(Style.BRIGHT + Fore.BLACK +\"Fonction Entrée : \",functionOriginalPrinter(), \" avec les bornes A et B respectivement : \",borneA, \" & \",borneB)\n",
        "\n",
        "functionIntegrate,calculError = quad(functionOriginal, borneA, borneB) \n",
        "\n",
        "jumpPrinter(1,True)\n",
        "print(Fore.BLUE + \"Fonction Intégrée : \", round(functionIntegrate,4))\n",
        "resetPrinter()"
      ],
      "metadata": {
        "colab": {
          "base_uri": "https://localhost:8080/"
        },
        "id": "9wdyPcLY0rsz",
        "outputId": "638392f9-01da-4c57-9e28-a5530cb949b0"
      },
      "execution_count": 121,
      "outputs": [
        {
          "output_type": "stream",
          "name": "stdout",
          "text": [
            "\u001b[1m\u001b[30mFonction Entrée :  1/x  avec les bornes A et B respectivement :  1  &  4\n",
            "\u001b[0m\n",
            "\n",
            "\n",
            "\u001b[34mFonction Intégrée :  1.3863\n",
            "\u001b[0m\n"
          ]
        }
      ]
    },
    {
      "cell_type": "markdown",
      "source": [
        "Traçons sa représentation"
      ],
      "metadata": {
        "id": "kocxM4sB1uwD"
      }
    },
    {
      "cell_type": "code",
      "source": [
        "plt.grid()\n",
        "plt.plot(np.linspace (borneA , borneB , 100) , functionOriginal(np.linspace (borneA , borneB , 100)) ,\"r--\",linewidth= \"4\" ) # courbe trac ée en rouge\n",
        "plt.xlabel(\"abscisses (x)\") # mettre un nom à l’axe des abscisses\n",
        "plt.ylabel(\"ordonnées (y)\") # mettre un nom à l’axe des ordonn ées\n",
        "plt.title(\"Fonction 1/x\") # mettre un titre à la figure\n",
        "plt.xlim(borneA-0.2,borneB+0.2)\n",
        "plt.ylim(0,1.2)\n",
        "plt.fill_between(np.linspace (borneA , borneB , 100),functionOriginal(np.linspace (borneA , borneB , 100)),0,color='c')\n",
        "plt.legend([\"f(x)\", \"Aire Courbe\"]) # donne une lé gende au graphique\n",
        "plt.show()"
      ],
      "metadata": {
        "colab": {
          "base_uri": "https://localhost:8080/",
          "height": 295
        },
        "id": "4Af7X58g1weN",
        "outputId": "fff52fb4-1832-4a78-9dd4-65b79f901047"
      },
      "execution_count": 122,
      "outputs": [
        {
          "output_type": "display_data",
          "data": {
            "text/plain": [
              "<Figure size 432x288 with 1 Axes>"
            ],
            "image/png": "[encoded data removed]"
          },
          "metadata": {
            "needs_background": "light"
          }
        }
      ]
    },
    {
      "cell_type": "markdown",
      "source": [
        "Choissisons le nombre de forme à représenter sous la courbe :"
      ],
      "metadata": {
        "id": "UYwX4abv3CG4"
      }
    },
    {
      "cell_type": "code",
      "source": [
        "print(Back.RED + Fore.WHITE + \"Merci d'entrer un entier positif, pour l'unique variable suivante !\")\n",
        "jumpPrinter(1,True)\n",
        "print(Back.BLACK)\n",
        "\n",
        "nbrForme = 'a'\n",
        "while(nbrForme.isdigit() == False):\n",
        "    nbrForme = (input(\"- Entrez le nombre de forme : \"))\n",
        "nbrForme = int(nbrForme)\n",
        "\n",
        "Δ = (borneB-borneA) / nbrForme\n",
        "\n",
        "jumpPrinter(2,True)\n",
        "print(Style.BRIGHT + Fore.YELLOW + \"Le nombre de forme est de : \",nbrForme,\" .\")\n",
        "print(Style.BRIGHT + Fore.YELLOW + \"Le pas est de : \",Δ,\" .\")\n",
        "resetPrinter()"
      ],
      "metadata": {
        "colab": {
          "base_uri": "https://localhost:8080/"
        },
        "id": "-vOZ-IpZ3CkR",
        "outputId": "0e5f4c94-8b4c-47f7-fca7-71b8602812c5"
      },
      "execution_count": 123,
      "outputs": [
        {
          "output_type": "stream",
          "name": "stdout",
          "text": [
            "\u001b[41m\u001b[37mMerci d'entrer un entier positif, pour l'unique variable suivante !\n",
            "\u001b[0m\n",
            "\n",
            "\n",
            "\u001b[40m\n",
            "- Entrez le nombre de forme : 6\n",
            "\u001b[0m\n",
            "\n",
            "\n",
            "\n",
            "\n",
            "\u001b[1m\u001b[33mLe nombre de forme est de :  6  .\n",
            "\u001b[1m\u001b[33mLe pas est de :  0.5  .\n",
            "\u001b[0m\n"
          ]
        }
      ]
    },
    {
      "cell_type": "markdown",
      "source": [
        "___**Méthode des Rectangles**___\n",
        "\n",
        "\n",
        "---\n",
        "<ul type=\"square\">\n",
        "Soit la fonction suivante :\n",
        "\n",
        "<li>$$\n",
        "f(x) = \\frac{1}{x}\n",
        "$$\n",
        "Et sa primitive :\n",
        "<li>$$\n",
        "F = \\int_a^b f(x) \\;dx\n",
        "$$\n",
        "<li>$$\n",
        "F = \\int_a^b \\frac{1}{x} \\;dx\n",
        "$$\n",
        "\n",
        "```\n",
        "- Les bornes devront être choisies par le client, ainsi que le nombre de formes à transmettre.\n",
        "```\n",
        "Illustration de la méthode :\n",
        "<img src=\"https://i.ibb.co/rbDrcKr/rect-bas.png\">\n",
        "<img src=\"https://i.ibb.co/WPZhjS1/rec-haut.png\">\n"
      ],
      "metadata": {
        "id": "jI4tnc8zrHEY"
      }
    },
    {
      "cell_type": "code",
      "execution_count": 129,
      "metadata": {
        "colab": {
          "base_uri": "https://localhost:8080/"
        },
        "id": "51vflxJ2lzCP",
        "outputId": "832fdbeb-f0d5-4f0a-e5df-d171d0f83206"
      },
      "outputs": [
        {
          "output_type": "stream",
          "name": "stdout",
          "text": [
            "Rectangle du Haut : \n",
            "\n",
            "Rectangle 1\n",
            "Calcul : Δ * f(sommet Rectangle) =>  0.5  x  f( 1.0 )  =  0.5\n",
            "Rectangle 2\n",
            "Calcul : Δ * f(sommet Rectangle) =>  0.5  x  f( 1.5 )  =  0.335\n",
            "Rectangle 3\n",
            "Calcul : Δ * f(sommet Rectangle) =>  0.5  x  f( 2.0 )  =  0.25\n",
            "Rectangle 4\n",
            "Calcul : Δ * f(sommet Rectangle) =>  0.5  x  f( 2.5 )  =  0.2\n",
            "Rectangle 5\n",
            "Calcul : Δ * f(sommet Rectangle) =>  0.5  x  f( 3.0 )  =  0.165\n",
            "Rectangle 6\n",
            "Calcul : Δ * f(sommet Rectangle) =>  0.5  x  f( 3.5 )  =  0.145\n",
            "\n",
            "\n",
            "\n",
            "\n",
            "Rectangle du Bas :\n",
            "\n",
            "Rectangle 1\n",
            "Calcul : Δ * f(sommet Rectangle) =>  0.5  x  f( 1.5 )  =  0.335\n",
            "Rectangle 2\n",
            "Calcul : Δ * f(sommet Rectangle) =>  0.5  x  f( 2.0 )  =  0.25\n",
            "Rectangle 3\n",
            "Calcul : Δ * f(sommet Rectangle) =>  0.5  x  f( 2.5 )  =  0.2\n",
            "Rectangle 4\n",
            "Calcul : Δ * f(sommet Rectangle) =>  0.5  x  f( 3.0 )  =  0.165\n",
            "Rectangle 5\n",
            "Calcul : Δ * f(sommet Rectangle) =>  0.5  x  f( 3.5 )  =  0.145\n",
            "Rectangle 6\n",
            "Calcul : Δ * f(sommet Rectangle) =>  0.5  x  f( 4.0 )  =  0.125\n",
            "\n",
            "\n",
            "\n",
            "\n",
            "Calcul Intégrée (Rectangle du Bas) :  1.2179\n",
            "Calcul Intégrée (Rectangle du Haut) :  1.5929\n",
            "Fonction Intégrée :  1.3863\n",
            "\n",
            "\n",
            "\n",
            "\n",
            "\n",
            "\n",
            "Erreur (Rectangle du Bas) :  12.1502  %.\n",
            "Erreur (Rectangle du Haut) :  14.9004  %.\n"
          ]
        }
      ],
      "source": [
        "calculIntegrateUpRectangle = 0\n",
        "\n",
        "print(\"Rectangle du Haut : \\n\")\n",
        "for k in range(nbrForme):\n",
        "    print(\"Rectangle\",k+1)\n",
        "    print(\"Calcul : Δ * f(sommet Rectangle) => \",Δ,\" x \", \"f(\", round(borneA+(Δ*k),2),\")\", \" = \", Δ*round(f(borneA+(Δ*k)),2))\n",
        "\n",
        "    calculIntegrateUpRectangle += (Δ * functionOriginal(borneA+(Δ*k) ))\n",
        "\n",
        "calculIntegrateDownRectangle = 0\n",
        "\n",
        "print(\"\\n\\n\\n\\nRectangle du Bas :\\n\")\n",
        "for k in range(nbrForme):\n",
        "\n",
        "    print(\"Rectangle\",k+1)\n",
        "    print(\"Calcul : Δ * f(sommet Rectangle) => \",Δ,\" x \", \"f(\", round(borneA+(Δ*(k+1)),2),\")\", \" = \", Δ*round(f(borneA+(Δ*(k+1))),2))\n",
        "    calculIntegrateDownRectangle += (Δ * functionOriginal(borneA+(Δ*(k+1)) ))\n",
        "   \n",
        "\n",
        "jumpPrinter(2,False)\n",
        "print(\"Calcul Intégrée (Rectangle du Bas) : \", round(calculIntegrateDownRectangle,4))\n",
        "print(\"Calcul Intégrée (Rectangle du Haut) : \", round(calculIntegrateUpRectangle,4))\n",
        "\n",
        "print(\"Fonction Intégrée : \", round(functionIntegrate,4))\n",
        "jumpPrinter(3,False)\n",
        "\n",
        "print(\"Erreur (Rectangle du Bas) : \", round(errorCalcul(functionIntegrate,calculIntegrateDownRectangle),4),\" %.\")\n",
        "print(\"Erreur (Rectangle du Haut) : \", round(errorCalcul(functionIntegrate,calculIntegrateUpRectangle),4),\" %.\")\n"
      ]
    },
    {
      "cell_type": "markdown",
      "source": [
        "___**Méthode des Trapèzes**___\n",
        "\n",
        "\n",
        "---\n",
        "<ul type=\"square\">\n",
        "Soit la fonction suivante :\n",
        "\n",
        "<li>$$\n",
        "f(x) = \\frac{1}{x}\n",
        "$$\n",
        "Et sa primitive :\n",
        "<li>$$\n",
        "F = \\int_a^b f(x) \\;dx\n",
        "$$\n",
        "<li>$$\n",
        "F = \\int_a^b \\frac{1}{x} \\;dx\n",
        "$$\n",
        "\n",
        "```\n",
        "- Les bornes devront être choisies par le client, ainsi que le nombre de formes à transmettre.\n",
        "```\n",
        "Illustration de la méthode :\n",
        "\n",
        "<img src=\"https://i.ibb.co/j4zsZVx/trapeze.png\">"
      ],
      "metadata": {
        "id": "8D6PZ0v9uN6l"
      }
    },
    {
      "cell_type": "code",
      "source": [
        "calculIntegrateTrapeze = 0\n",
        "\n",
        "print(\"Trapèze :\\n\")\n",
        "for k in range(nbrForme):\n",
        "\n",
        "    print(\"Trapèze\",k+1)\n",
        "    print(\"Calcul :  f(Petit Côté) + f(Grand Côté)  => \",\"f(\", round(borneA+(Δ*k),2),\")\", '+'  ,\"f(\", round(borneA+(Δ*(k+1)),2),\")\",\" = \", round(f(borneA+(Δ*k)) + f(borneA+(Δ*(k+1))),2))\n",
        "    calculIntegrateTrapeze +=  functionOriginal(borneA+(Δ*k)) + functionOriginal(borneA+(Δ*(k+1)))\n",
        "   \n",
        "print(\"\\n\")\n",
        "print(\"Calcul : Sommes des Aires * Δ / 2 => \", round(calculIntegrateTrapeze,2) , \" * \", Δ , \" / \", \" 2 \", \" = \", calculIntegrateTrapeze * (Δ/2) )\n",
        "calculIntegrateTrapeze *= (Δ/2)\n",
        "\n",
        "jumpPrinter(2,False)\n",
        "print(\"Calcul Intégrée (Trapèze) : \", round(calculIntegrateTrapeze,4))\n",
        "\n",
        "print(\"Fonction Intégrée : \", round(functionIntegrate,4))\n",
        "jumpPrinter(3,False)\n",
        "\n",
        "\n",
        "print(\"Erreur (Trapèze) : \", round(errorCalcul(functionIntegrate,calculIntegrateTrapeze),4),\" %.\")"
      ],
      "metadata": {
        "colab": {
          "base_uri": "https://localhost:8080/"
        },
        "id": "NYw5zYLKVkH7",
        "outputId": "7fdd6990-1689-48d2-f3a0-bad6693e4861"
      },
      "execution_count": 130,
      "outputs": [
        {
          "output_type": "stream",
          "name": "stdout",
          "text": [
            "Trapèze :\n",
            "\n",
            "Trapèze 1\n",
            "Calcul :  f(Petit Côté) + f(Grand Côté)  =>  f( 1.0 ) + f( 1.5 )  =  1.67\n",
            "Trapèze 2\n",
            "Calcul :  f(Petit Côté) + f(Grand Côté)  =>  f( 1.5 ) + f( 2.0 )  =  1.17\n",
            "Trapèze 3\n",
            "Calcul :  f(Petit Côté) + f(Grand Côté)  =>  f( 2.0 ) + f( 2.5 )  =  0.9\n",
            "Trapèze 4\n",
            "Calcul :  f(Petit Côté) + f(Grand Côté)  =>  f( 2.5 ) + f( 3.0 )  =  0.73\n",
            "Trapèze 5\n",
            "Calcul :  f(Petit Côté) + f(Grand Côté)  =>  f( 3.0 ) + f( 3.5 )  =  0.62\n",
            "Trapèze 6\n",
            "Calcul :  f(Petit Côté) + f(Grand Côté)  =>  f( 3.5 ) + f( 4.0 )  =  0.54\n",
            "\n",
            "\n",
            "Calcul : Sommes des Aires * Δ / 2 =>  5.62  *  0.5  /   2   =  1.4053571428571427\n",
            "\n",
            "\n",
            "\n",
            "\n",
            "Calcul Intégrée (Trapèze) :  1.4054\n",
            "Fonction Intégrée :  1.3863\n",
            "\n",
            "\n",
            "\n",
            "\n",
            "\n",
            "\n",
            "Erreur (Trapèze) :  1.3751  %.\n"
          ]
        }
      ]
    },
    {
      "cell_type": "markdown",
      "source": [
        "___**Méthode des Simpson**___\n",
        "\n",
        "\n",
        "---\n",
        "<ul type=\"square\">\n",
        "Soit la fonction suivante :\n",
        "\n",
        "<li>$$\n",
        "f(x) = \\frac{1}{x}\n",
        "$$\n",
        "Et sa primitive :\n",
        "<li>$$\n",
        "F = \\int_a^b f(x) \\;dx\n",
        "$$\n",
        "<li>$$\n",
        "F = \\int_a^b \\frac{1}{x} \\;dx\n",
        "$$\n",
        "\n",
        "```\n",
        "- Les bornes devront être choisies par le client, ainsi que le nombre de formes à transmettre.\n",
        "```\n",
        "Illustration de la méthode :\n",
        "\n",
        "<img src=\"https://www.researchgate.net/profile/Sofyane-Bouameur/publication/341165012/figure/fig3/AS:887943052935171@1588713529989/la-methode-de-Simpson.jpg\">"
      ],
      "metadata": {
        "id": "BKYIRU1AvADC"
      }
    },
    {
      "cell_type": "code",
      "source": [
        "calculIntegrateSimpson = 0\n",
        "\n",
        "#https://zestedesavoir.com/tutoriels/472/calcul-approche-dintegrales/la-methode-de-simpson/\n",
        "\n",
        "def simpson(f, a, b, n,pas):\n",
        "\n",
        "    somme = (f(a) + f(b)) / 2 + 2 * f(a + pas / 2)  # On initialise la somme\n",
        "\n",
        "\n",
        "    for i in range(n-1): # On calcule la somme n-1 fois\n",
        "\n",
        "        print(\"Calcul : f(\",borneA+(pas*(i+1)),\") + 2* f(\",borneA+(pas*(i+1)) + pas / 2,\")\")\n",
        "        somme += f(borneA+(pas*(i+1))) + 2 * f(borneA+(pas*(i+1)) + pas / 2)\n",
        "    \n",
        "\n",
        "    ''' x = a + pas           # La somme commence à x+1 \n",
        "    for i in range(n-1): # On calcule la somme n-1 fois\n",
        "\n",
        "\n",
        "        print(\"Calcul : f(\",x,\") + 2* f(\",x + pas / 2,\")\")\n",
        "        #somme += f(x) + 2 * f(x + pas / 2)\n",
        "        x += pas\n",
        "     '''\n",
        "\n",
        "    return somme * pas / 3   # On retourne cette somme fois le pas / 3   \n",
        "\n",
        "calculIntegrateSimpson = simpson(functionOriginal,borneA ,borneB , nbrRectangle,Δ)\n",
        "\n",
        "jumpPrinter(2,False)\n",
        "print(\"Calcul Intégrée (Simpson) : \", round(calculIntegrateSimpson,4))\n",
        "\n",
        "print(\"Fonction Intégrée : \", round(functionIntegrate,4))\n",
        "jumpPrinter(3,False)\n",
        "\n",
        "print(\"Erreur (Trapèze) : \", round(errorCalcul(functionIntegrate,calculIntegrateSimpson),4),\" %.\")"
      ],
      "metadata": {
        "colab": {
          "base_uri": "https://localhost:8080/"
        },
        "id": "VIIuKeTfM-J9",
        "outputId": "23ec9d21-dec5-4300-e997-d7ca3e08bd01"
      },
      "execution_count": 141,
      "outputs": [
        {
          "output_type": "stream",
          "name": "stdout",
          "text": [
            "Calcul : f( 1.5 ) + 2* f( 1.75 )\n",
            "Calcul : f( 2.0 ) + 2* f( 2.25 )\n",
            "Calcul : f( 2.5 ) + 2* f( 2.75 )\n",
            "Calcul : f( 3.0 ) + 2* f( 3.25 )\n",
            "Calcul : f( 3.5 ) + 2* f( 3.75 )\n",
            "\n",
            "\n",
            "\n",
            "\n",
            "Calcul Intégrée (Simpson) :  1.3864\n",
            "Fonction Intégrée :  1.3863\n",
            "\n",
            "\n",
            "\n",
            "\n",
            "\n",
            "\n",
            "Erreur (Trapèze) :  0.0082  %.\n"
          ]
        }
      ]
    },
    {
      "cell_type": "markdown",
      "source": [
        "Binomial"
      ],
      "metadata": {
        "id": "hWWT0_dovR2M"
      }
    },
    {
      "cell_type": "code",
      "source": [
        "print(\"WIP\")"
      ],
      "metadata": {
        "colab": {
          "base_uri": "https://localhost:8080/"
        },
        "id": "lpCE2OiIcYL8",
        "outputId": "ecada372-beb5-4667-9976-8a27e7428905"
      },
      "execution_count": 127,
      "outputs": [
        {
          "output_type": "stream",
          "name": "stdout",
          "text": [
            "WIP\n"
          ]
        }
      ]
    }
  ]
}