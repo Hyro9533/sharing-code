{
  "nbformat": 4,
  "nbformat_minor": 0,
  "metadata": {
    "colab": {
      "name": "TP2",
      "provenance": [],
      "authorship_tag": "ABX9TyPBB640/E9xyNgEBgFcSCh0",
      "include_colab_link": true
    },
    "kernelspec": {
      "name": "python3",
      "display_name": "Python 3"
    },
    "language_info": {
      "name": "python"
    }
  },
  "cells": [
    {
      "cell_type": "markdown",
      "metadata": {
        "id": "view-in-github",
        "colab_type": "text"
      },
      "source": [
        "<a href=\"https://colab.research.google.com/github/Hyro9533/sharing-code/blob/main/TP2.ipynb\" target=\"_parent\"><img src=\"https://colab.research.google.com/assets/colab-badge.svg\" alt=\"Open In Colab\"/></a>"
      ]
    },
    {
      "cell_type": "markdown",
      "source": [
        "**TP Outils Logiciels 2**\n",
        "\n",
        "*Intégration Numérique*\n",
        "\n",
        "---\n",
        "\n",
        "Edité par MONTGUILLON Jonathan TP4."
      ],
      "metadata": {
        "id": "nIdgPHNkc8RI"
      }
    },
    {
      "cell_type": "markdown",
      "source": [
        "<img src = \"http://www.stillincontact.com/images/ecoles/10792.jpg\">"
      ],
      "metadata": {
        "id": "SxoxHLXut6W5"
      }
    },
    {
      "cell_type": "markdown",
      "source": [
        "I. **Préparation du Projet**\n",
        "\n",
        "```markdown\n",
        ">> Importations de librairies communes au projet.\n",
        "```"
      ],
      "metadata": {
        "id": "3XJVmurmfmfV"
      }
    },
    {
      "cell_type": "code",
      "source": [
        "#Installation d'une librairie d'affichage en couleur au niveau du terminal.\n",
        "!pip install colorama\n",
        "import colorama\n",
        "from colorama import init, Fore, Back, Style\n",
        "\n",
        "''' \n",
        "Fore: BLACK, RED, GREEN, YELLOW, BLUE, MAGENTA, CYAN, WHITE, RESET.\n",
        "Back: BLACK, RED, GREEN, YELLOW, BLUE, MAGENTA, CYAN, WHITE, RESET.\n",
        "Style: DIM, NORMAL, BRIGHT, RESET_ALL\n",
        "'''\n",
        "\n",
        "#Installation de librairies mathématiques\n",
        "\n",
        "from scipy.integrate import quad \t\n",
        "\n",
        "import numpy as np\n",
        "import matplotlib.pyplot as plt"
      ],
      "metadata": {
        "colab": {
          "base_uri": "https://localhost:8080/"
        },
        "id": "tlO9goGAvNTW",
        "outputId": "3c98d628-3c9d-4c09-93d8-e91a4d79c37b"
      },
      "execution_count": 1,
      "outputs": [
        {
          "output_type": "stream",
          "name": "stdout",
          "text": [
            "Looking in indexes: https://pypi.org/simple, https://us-python.pkg.dev/colab-wheels/public/simple/\n",
            "Collecting colorama\n",
            "  Downloading colorama-0.4.4-py2.py3-none-any.whl (16 kB)\n",
            "Installing collected packages: colorama\n",
            "Successfully installed colorama-0.4.4\n"
          ]
        }
      ]
    },
    {
      "cell_type": "markdown",
      "source": [
        "```markdown\n",
        ">> Définitions de fonctions communes au projet, non essentiel aux exercices demandés.\n",
        "```"
      ],
      "metadata": {
        "id": "RIbPoX7zvY0I"
      }
    },
    {
      "cell_type": "code",
      "source": [
        "#Déifiniton de plusieurs fonctions qui permettent une optimisation du projet.\n",
        "\n",
        "def errorCalcul(origin,calculate):\n",
        "    return abs((origin - calculate)/(origin)) * 100\n",
        "\n",
        "def jumpPrinter(loop,reset):\n",
        "    if reset:\n",
        "        resetPrinter()\n",
        "    for k in range(loop):\n",
        "        print(\"\\n\")\n",
        "    return \n",
        "\n",
        "def resetPrinter():\n",
        "    return print(Style.RESET_ALL)\n",
        "\n",
        "def isfloat(value): \n",
        "    try: \n",
        "        float(value) \n",
        "        return True \n",
        "    except ValueError: \n",
        "        return False"
      ],
      "metadata": {
        "id": "Az1JFPCZvYvU"
      },
      "execution_count": 2,
      "outputs": []
    },
    {
      "cell_type": "markdown",
      "source": [
        "```markdown\n",
        ">> Définitions des fonctions mathématiques demandées dans les exercices.\n",
        "```\n",
        "$$\n",
        "F = \\int_a^b \\frac{1}{x} \\;dx\n",
        "$$\n",
        "\n",
        "$$\n",
        "G = 30*\\int_a^b |sin(x)| \\;dx\n",
        "$$"
      ],
      "metadata": {
        "id": "fkG6D0nRv8bB"
      }
    },
    {
      "cell_type": "code",
      "source": [
        "def functionOriginal(x):\n",
        "    return 1/x\n",
        "\n",
        "def functionOriginalPrinter():\n",
        "    return \"1/x\"\n",
        "\n",
        "def functionSecond(x):\n",
        "    return 30*abs(np.sin(x))\n",
        "\n",
        "def functionSecondPrinter():\n",
        "    return \"30.abs(sin(x))\"\n",
        "\n",
        "resetPrinter()\n",
        "print(Back.GREEN + Fore.BLACK +\"Tous les calculs seront arrondies à 10**-4.\")\n",
        "resetPrinter()\n"
      ],
      "metadata": {
        "id": "qwjuNbB8fb1Q",
        "colab": {
          "base_uri": "https://localhost:8080/"
        },
        "outputId": "986284da-0840-46fb-c7b8-47c314f66a63"
      },
      "execution_count": 3,
      "outputs": [
        {
          "output_type": "stream",
          "name": "stdout",
          "text": [
            "\u001b[0m\n",
            "\u001b[42m\u001b[30mTous les calculs seront arrondies à 10**-4.\n",
            "\u001b[0m\n"
          ]
        }
      ]
    },
    {
      "cell_type": "markdown",
      "source": [
        "```markdown\n",
        ">> Définitions d'une fonction pour les bornes d'intégrations. \n",
        "```"
      ],
      "metadata": {
        "id": "2gbOmSNtwCWs"
      }
    },
    {
      "cell_type": "code",
      "source": [
        "borneA = 'IS NOT DEFINED --> Run \"QueryTerminal\" Build-Function'\n",
        "borneB = 'IS NOT DEFINED --> Run \"QueryTerminal\" Build-Function '\n",
        "\n",
        "def queryTerminal():\n",
        "\n",
        "    firstTerminal = 'IS NOT DEFINED'\n",
        "    secondTerminal = 'IS NOT DEFINED'\n",
        "\n",
        "    print(Back.RED + Fore.WHITE + \"Merci d'entrer un entier positif ou négatif, pour les 2 variables suivantes !\")\n",
        "    jumpPrinter(1,True)\n",
        "    print(Back.BLACK)\n",
        "\n",
        "    \n",
        "    while( (isfloat(firstTerminal.lstrip('-')) == False) ):\n",
        "        firstTerminal = (input(\"- Entrez la borne 'a' : \"))\n",
        "    firstTerminal = float(firstTerminal)\n",
        "\n",
        "    \n",
        "    while( (isfloat(secondTerminal.lstrip('-')) == False) ):\n",
        "        secondTerminal = (input(\"- Entrez la borne 'b' : \")) \n",
        "    secondTerminal = float(secondTerminal)\n",
        "\n",
        "    jumpPrinter(2,True)\n",
        "    print(Style.BRIGHT + Fore.YELLOW + \"Les bornes sont respectivement : \",firstTerminal,\" & \",secondTerminal,\" .\")\n",
        "    resetPrinter()\n",
        "\n",
        "    return firstTerminal,secondTerminal;"
      ],
      "metadata": {
        "id": "4wBaqXNdwDsl"
      },
      "execution_count": 4,
      "outputs": []
    },
    {
      "cell_type": "markdown",
      "source": [
        "```markdown\n",
        ">> Définitions d'une fonction pour le pas entre chaque forme.\n",
        "\n",
        "Cette fonction peut s'effectuer par 2 méthodes :\n",
        "\n",
        "> En déclarant le nombre de forme en entrée.\n",
        "\n",
        "> En déclarant le pas directement en entrée.\n",
        "```\n"
      ],
      "metadata": {
        "id": "fmAz4iZBlc1j"
      }
    },
    {
      "cell_type": "code",
      "source": [
        "nbrForme = 'IS NOT DEFINED --> Run \"methodWithGeometryArg\" Build-Function'\n",
        "Δ = 'IS NOT DEFINED --> Run \"methodWithGeometryArg\" Build-Function '\n",
        "\n",
        "\n",
        "def methodWithGeometryArg():\n",
        "\n",
        "    if( (type(borneA) == str) & (type(borneB) == str) ):\n",
        "        return print(Back.RED + Fore.WHITE + 'Veuillez déclarer des bornes d\\' intégrations auparavant ! --> Run \"QueryTerminal\" Build-Function')\n",
        "    else:\n",
        "        print(Style.BRIGHT + Fore.YELLOW + \"Déclaration avec les bornes suivantes : \", borneA, \" & \", borneB)\n",
        "\n",
        "    jumpPrinter(2,False)\n",
        "    resetPrinter()\n",
        "\n",
        "    print(Style.BRIGHT + \"Vous pouvez déclarer le pas par 2 méthodes : \\n\\n- soit en déclarant le nombre de forme, \\n\\n- soit en déclarant le pas directement.\\n\\n\\n Que préférez vous ?\")\n",
        "    print(Back.BLACK)\n",
        "\n",
        "    choice = int(input(\"- Rentrez le chiffre correspondant :\\n\\nDéclaration de N (Nombre de forme) => 0.\\n\\nDéclaration de H (Pas) => 1.\\n\\n\\n Choix : \"))\n",
        "\n",
        "    jumpPrinter(3,False)\n",
        "    resetPrinter()\n",
        "\n",
        "    formNumber = 'IS NOT DEFINED'\n",
        "    stepBetweenForm = 'IS NOT DEFINED'\n",
        "\n",
        "    if (choice == 0) : \n",
        "        #Calcull avec N\n",
        "\n",
        "        print(Back.RED + Fore.WHITE + \"Merci d'entrer un entier positif, pour l'unique variable suivante !\")\n",
        "        jumpPrinter(1,True)\n",
        "        print(Back.BLACK)\n",
        "    \n",
        "        formNumber = 'a'\n",
        "        while(formNumber.isdigit() == False):\n",
        "            formNumber = (input(\"- Entrez le nombre de forme : \"))\n",
        "        formNumber = int(formNumber)\n",
        "\n",
        "        stepBetweenForm = (borneB-borneA) / formNumber\n",
        "\n",
        "    elif (choice == 1):\n",
        "        #Calcul avec H\n",
        "\n",
        "        print(Back.RED + Fore.WHITE + \"Merci d'entrer un float ou entier positif, pour l'unique variable suivante !\")\n",
        "        jumpPrinter(1,True)\n",
        "        print(Back.BLACK)\n",
        "\n",
        "        stepBetweenForm = 'a'\n",
        "\n",
        "        formNumber = 0.5\n",
        "\n",
        "\n",
        "        while( (isfloat(stepBetweenForm) == False) or (float.is_integer(formNumber) == False ) ):\n",
        "            stepBetweenForm = (input(\"- Entrez le pas : \"))\n",
        "          \n",
        "            if(isfloat(stepBetweenForm)) :\n",
        "                stepBetweenForm = float(stepBetweenForm)\n",
        "                formNumber = (borneB-borneA) / stepBetweenForm\n",
        "\n",
        "                if(float.is_integer(formNumber) == False):\n",
        "                    resetPrinter()\n",
        "                    print(Back.WHITE + Fore.RED +\"Le nombre de forme à construire n'est pas un entier, le pas ne peut pas être validé => \",formNumber,\" . \\n Veuillez à recommencer.\")\n",
        "                    jumpPrinter(1,True)\n",
        "\n",
        "\n",
        "        formNumber = int(formNumber)\n",
        "       \n",
        "\n",
        "    jumpPrinter(2,True)\n",
        "    print(Style.BRIGHT + Fore.YELLOW + \"Le nombre de forme est de : \",formNumber,\" .\")\n",
        "    print(Style.BRIGHT + Fore.YELLOW + \"Le pas est de : \",stepBetweenForm,\" .\")\n",
        "\n",
        "\n",
        "\n",
        "    return formNumber,stepBetweenForm;"
      ],
      "metadata": {
        "id": "FCqxuf-Mlp63"
      },
      "execution_count": 5,
      "outputs": []
    },
    {
      "cell_type": "markdown",
      "source": [
        "**II. Exercice -  Intégration de la fonction inverse sur [1;4]**\n"
      ],
      "metadata": {
        "id": "J-wE7CL2k21w"
      }
    },
    {
      "cell_type": "markdown",
      "source": [
        "\n",
        "```markdown\n",
        ">> Déclarons en premier lieu les bornes.\n",
        ">> Intégrons notre fonction, avec une fonction importé d'une librairie.\n",
        "```"
      ],
      "metadata": {
        "id": "9Mkomk9LzNKa"
      }
    },
    {
      "cell_type": "code",
      "source": [
        "borneA,borneB = queryTerminal()\n",
        "\n",
        "print(Style.BRIGHT + Fore.BLACK +\"Fonction Entrée : \",functionOriginalPrinter(), \" avec les bornes A et B respectivement : \",borneA, \" & \",borneB)\n",
        "\n",
        "functionIntegrate,calculError = quad(functionOriginal, borneA, borneB) \n",
        "\n",
        "jumpPrinter(1,True)\n",
        "print(Fore.BLUE + \"Fonction Intégrée : \", round(functionIntegrate,4))\n",
        "resetPrinter()"
      ],
      "metadata": {
        "colab": {
          "base_uri": "https://localhost:8080/"
        },
        "id": "9wdyPcLY0rsz",
        "outputId": "e65e21e5-583b-4733-f925-4df1f4406de1"
      },
      "execution_count": 34,
      "outputs": [
        {
          "output_type": "stream",
          "name": "stdout",
          "text": [
            "\u001b[41m\u001b[37mMerci d'entrer un entier positif ou négatif, pour les 2 variables suivantes !\n",
            "\u001b[0m\n",
            "\n",
            "\n",
            "\u001b[40m\n",
            "- Entrez la borne 'a' : 1\n",
            "- Entrez la borne 'b' : 4\n",
            "\u001b[0m\n",
            "\n",
            "\n",
            "\n",
            "\n",
            "\u001b[1m\u001b[33mLes bornes sont respectivement :  1.0  &  4.0  .\n",
            "\u001b[0m\n",
            "\u001b[1m\u001b[30mFonction Entrée :  1/x  avec les bornes A et B respectivement :  1.0  &  4.0\n",
            "\u001b[0m\n",
            "\n",
            "\n",
            "\u001b[34mFonction Intégrée :  1.3863\n",
            "\u001b[0m\n"
          ]
        }
      ]
    },
    {
      "cell_type": "markdown",
      "source": [
        "```markdown\n",
        ">> Traçons sa représentation.\n",
        "```"
      ],
      "metadata": {
        "id": "kocxM4sB1uwD"
      }
    },
    {
      "cell_type": "code",
      "source": [
        "plt.grid()\n",
        "plt.plot(np.linspace (borneA , borneB , 100) , functionOriginal(np.linspace (borneA , borneB , 100)) ,\"r--\",linewidth= \"4\" ) # courbe trac ée en rouge\n",
        "plt.xlabel(\"abscisses (x)\") # mettre un nom à l’axe des abscisses\n",
        "plt.ylabel(\"ordonnées (y)\") # mettre un nom à l’axe des ordonn ées\n",
        "plt.title(\"Fonction 1/x\") # mettre un titre à la figure\n",
        "plt.xlim(borneA-0.2,borneB+0.2)\n",
        "plt.ylim(0,1.2)\n",
        "plt.fill_between(np.linspace (borneA , borneB , 100),functionOriginal(np.linspace (borneA , borneB , 100)),0,color='c')\n",
        "plt.legend([\"f(x)\", \"Aire Courbe\"]) # donne une lé gende au graphique\n",
        "plt.show()"
      ],
      "metadata": {
        "colab": {
          "base_uri": "https://localhost:8080/",
          "height": 295
        },
        "id": "4Af7X58g1weN",
        "outputId": "1ddeb47e-3d7c-4c31-f3c0-0a1c6492c079"
      },
      "execution_count": 7,
      "outputs": [
        {
          "output_type": "display_data",
          "data": {
            "text/plain": [
              "<Figure size 432x288 with 1 Axes>"
            ],
            "image/png": "[encoded data removed]"
          },
          "metadata": {
            "needs_background": "light"
          }
        }
      ]
    },
    {
      "cell_type": "markdown",
      "source": [
        "```markdown\n",
        ">> Définissons notre pas (h).\n",
        "```"
      ],
      "metadata": {
        "id": "UYwX4abv3CG4"
      }
    },
    {
      "cell_type": "code",
      "source": [
        "nbrForme, Δ = methodWithGeometryArg()"
      ],
      "metadata": {
        "colab": {
          "base_uri": "https://localhost:8080/"
        },
        "id": "-vOZ-IpZ3CkR",
        "outputId": "5d328636-9ed7-45ad-9f71-2d8e8568c88c"
      },
      "execution_count": 35,
      "outputs": [
        {
          "output_type": "stream",
          "name": "stdout",
          "text": [
            "\u001b[1m\u001b[33mDéclaration avec les bornes suivantes :  1.0  &  4.0\n",
            "\n",
            "\n",
            "\n",
            "\n",
            "\u001b[0m\n",
            "\u001b[1mVous pouvez déclarer le pas par 2 méthodes : \n",
            "\n",
            "- soit en déclarant le nombre de forme, \n",
            "\n",
            "- soit en déclarant le pas directement.\n",
            "\n",
            "\n",
            " Que préférez vous ?\n",
            "\u001b[40m\n",
            "- Rentrez le chiffre correspondant :\n",
            "\n",
            "Déclaration de N (Nombre de forme) => 0.\n",
            "\n",
            "Déclaration de H (Pas) => 1.\n",
            "\n",
            "\n",
            " Choix : 1\n",
            "\n",
            "\n",
            "\n",
            "\n",
            "\n",
            "\n",
            "\u001b[0m\n",
            "\u001b[41m\u001b[37mMerci d'entrer un float ou entier positif, pour l'unique variable suivante !\n",
            "\u001b[0m\n",
            "\n",
            "\n",
            "\u001b[40m\n",
            "- Entrez le pas : 0.5\n",
            "\u001b[0m\n",
            "\n",
            "\n",
            "\n",
            "\n",
            "\u001b[1m\u001b[33mLe nombre de forme est de :  6  .\n",
            "\u001b[1m\u001b[33mLe pas est de :  0.5  .\n"
          ]
        }
      ]
    },
    {
      "cell_type": "markdown",
      "source": [
        "```markdown\n",
        ">> Passons aux méthodes Géométriques.\n",
        "```\n"
      ],
      "metadata": {
        "id": "2rkm5L3GzXKo"
      }
    },
    {
      "cell_type": "markdown",
      "source": [
        "___**Méthode des Rectangles**___\n",
        "\n",
        "\n",
        "---\n",
        "<ul type=\"square\">\n",
        "Soit la fonction suivante :\n",
        "\n",
        "<li>$$\n",
        "f(x) = \\frac{1}{x}\n",
        "$$\n",
        "Et sa primitive :\n",
        "<li>$$\n",
        "F = \\int_a^b f(x) \\;dx\n",
        "$$\n",
        "<li>$$\n",
        "F = \\int_a^b \\frac{1}{x} \\;dx\n",
        "$$\n",
        "\n",
        "```\n",
        "- Les bornes devront être choisies par le client, ainsi que le nombre de formes à transmettre.\n",
        "```\n",
        "Illustration de la méthode :\n",
        "<img src=\"https://i.ibb.co/rbDrcKr/rect-bas.png\">\n",
        "<img src=\"https://i.ibb.co/WPZhjS1/rec-haut.png\">\n"
      ],
      "metadata": {
        "id": "jI4tnc8zrHEY"
      }
    },
    {
      "cell_type": "code",
      "execution_count": 36,
      "metadata": {
        "id": "51vflxJ2lzCP"
      },
      "outputs": [],
      "source": [
        "def methodeRect(function, terminalA,terminalB,step,formNumber):\n",
        "\n",
        "    calculIntegrateUpRectangle = 0\n",
        "\n",
        "\n",
        "    print(Back.MAGENTA + Fore.WHITE + \"Rectangle du Haut :\")\n",
        "    jumpPrinter(1,True)\n",
        "\n",
        "    for k in range(formNumber):\n",
        "        print(Fore.CYAN +\"Rectangle\",k+1)\n",
        "        print(Fore.CYAN +\"Calcul : Δ * f(sommet Rectangle) => \",step,\" x \", \"f(\", round(terminalA+(step*k),2),\")\", \" = \", step*round(function(terminalA+(step*k)),2))\n",
        "\n",
        "        calculIntegrateUpRectangle += (step * function(terminalA+(step*k) ))\n",
        "\n",
        "    calculIntegrateDownRectangle = 0\n",
        "\n",
        "    jumpPrinter(3,True)\n",
        "    print(Back.MAGENTA + Fore.WHITE +\"Rectangle du Bas :\")\n",
        "    jumpPrinter(1,True)\n",
        "\n",
        "    for k in range(formNumber):\n",
        "\n",
        "        print(Fore.CYAN + \"Rectangle\",k+1)\n",
        "        print(Fore.CYAN + \"Calcul : Δ * f(sommet Rectangle) => \",step,\" x \", \"f(\", round(terminalA+(step*(k+1)),2),\")\", \" = \", step*round(function(terminalA+(step*(k+1))),2))\n",
        "        calculIntegrateDownRectangle += (step * function(terminalA+(step*(k+1)) ))\n",
        "    \n",
        "\n",
        "    jumpPrinter(2,False)\n",
        "    print(Style.BRIGHT + Fore.BLACK + \"Calcul Intégrée (Rectangle du Bas) : \", round(calculIntegrateDownRectangle,4))\n",
        "    print(Style.BRIGHT + Fore.BLACK + \"Calcul Intégrée (Rectangle du Haut) : \", round(calculIntegrateUpRectangle,4))\n",
        "\n",
        "    print(Style.BRIGHT + Fore.BLACK + \"Fonction Intégrée : \", round(functionIntegrate,4))\n",
        "    jumpPrinter(3,False)\n",
        "\n",
        "    jumpPrinter(1,True)\n",
        "    print(Fore.BLUE + \"Erreur (Rectangle du Bas) : \", round(errorCalcul(functionIntegrate,calculIntegrateDownRectangle),4),\" %.\")\n",
        "    print(Fore.BLUE + \"Erreur (Rectangle du Haut) : \", round(errorCalcul(functionIntegrate,calculIntegrateUpRectangle),4),\" %.\")\n",
        "    resetPrinter()\n",
        "\n",
        "    return round(errorCalcul(functionIntegrate,calculIntegrateUpRectangle),4),round(errorCalcul(functionIntegrate,calculIntegrateDownRectangle),4),round(calculIntegrateUpRectangle,4),round(calculIntegrateDownRectangle,4);\n",
        "\n"
      ]
    },
    {
      "cell_type": "code",
      "source": [
        "errorRectUp, errorRectDown, integrateRectUp, integrateRectDown = methodeRect(functionOriginal, borneA,borneB,Δ,nbrForme)\n"
      ],
      "metadata": {
        "colab": {
          "base_uri": "https://localhost:8080/"
        },
        "id": "S0a4iR70hrFE",
        "outputId": "ff9ffdbc-6684-4c36-f1b8-6d619e13da32"
      },
      "execution_count": 37,
      "outputs": [
        {
          "output_type": "stream",
          "name": "stdout",
          "text": [
            "\u001b[45m\u001b[37mRectangle du Haut :\n",
            "\u001b[0m\n",
            "\n",
            "\n",
            "\u001b[36mRectangle 1\n",
            "\u001b[36mCalcul : Δ * f(sommet Rectangle) =>  0.5  x  f( 1.0 )  =  0.5\n",
            "\u001b[36mRectangle 2\n",
            "\u001b[36mCalcul : Δ * f(sommet Rectangle) =>  0.5  x  f( 1.5 )  =  0.335\n",
            "\u001b[36mRectangle 3\n",
            "\u001b[36mCalcul : Δ * f(sommet Rectangle) =>  0.5  x  f( 2.0 )  =  0.25\n",
            "\u001b[36mRectangle 4\n",
            "\u001b[36mCalcul : Δ * f(sommet Rectangle) =>  0.5  x  f( 2.5 )  =  0.2\n",
            "\u001b[36mRectangle 5\n",
            "\u001b[36mCalcul : Δ * f(sommet Rectangle) =>  0.5  x  f( 3.0 )  =  0.165\n",
            "\u001b[36mRectangle 6\n",
            "\u001b[36mCalcul : Δ * f(sommet Rectangle) =>  0.5  x  f( 3.5 )  =  0.145\n",
            "\u001b[0m\n",
            "\n",
            "\n",
            "\n",
            "\n",
            "\n",
            "\n",
            "\u001b[45m\u001b[37mRectangle du Bas :\n",
            "\u001b[0m\n",
            "\n",
            "\n",
            "\u001b[36mRectangle 1\n",
            "\u001b[36mCalcul : Δ * f(sommet Rectangle) =>  0.5  x  f( 1.5 )  =  0.335\n",
            "\u001b[36mRectangle 2\n",
            "\u001b[36mCalcul : Δ * f(sommet Rectangle) =>  0.5  x  f( 2.0 )  =  0.25\n",
            "\u001b[36mRectangle 3\n",
            "\u001b[36mCalcul : Δ * f(sommet Rectangle) =>  0.5  x  f( 2.5 )  =  0.2\n",
            "\u001b[36mRectangle 4\n",
            "\u001b[36mCalcul : Δ * f(sommet Rectangle) =>  0.5  x  f( 3.0 )  =  0.165\n",
            "\u001b[36mRectangle 5\n",
            "\u001b[36mCalcul : Δ * f(sommet Rectangle) =>  0.5  x  f( 3.5 )  =  0.145\n",
            "\u001b[36mRectangle 6\n",
            "\u001b[36mCalcul : Δ * f(sommet Rectangle) =>  0.5  x  f( 4.0 )  =  0.125\n",
            "\n",
            "\n",
            "\n",
            "\n",
            "\u001b[1m\u001b[30mCalcul Intégrée (Rectangle du Bas) :  1.2179\n",
            "\u001b[1m\u001b[30mCalcul Intégrée (Rectangle du Haut) :  1.5929\n",
            "\u001b[1m\u001b[30mFonction Intégrée :  1.3863\n",
            "\n",
            "\n",
            "\n",
            "\n",
            "\n",
            "\n",
            "\u001b[0m\n",
            "\n",
            "\n",
            "\u001b[34mErreur (Rectangle du Bas) :  12.1502  %.\n",
            "\u001b[34mErreur (Rectangle du Haut) :  14.9004  %.\n",
            "\u001b[0m\n"
          ]
        }
      ]
    },
    {
      "cell_type": "markdown",
      "source": [
        "___**Méthode des Trapèzes**___\n",
        "\n",
        "\n",
        "---\n",
        "<ul type=\"square\">\n",
        "Soit la fonction suivante :\n",
        "\n",
        "<li>$$\n",
        "f(x) = \\frac{1}{x}\n",
        "$$\n",
        "Et sa primitive :\n",
        "<li>$$\n",
        "F = \\int_a^b f(x) \\;dx\n",
        "$$\n",
        "<li>$$\n",
        "F = \\int_a^b \\frac{1}{x} \\;dx\n",
        "$$\n",
        "\n",
        "```\n",
        "- Les bornes devront être choisies par le client, ainsi que le nombre de formes à transmettre.\n",
        "```\n",
        "Illustration de la méthode :\n",
        "\n",
        "<img src=\"https://i.ibb.co/j4zsZVx/trapeze.png\">"
      ],
      "metadata": {
        "id": "8D6PZ0v9uN6l"
      }
    },
    {
      "cell_type": "code",
      "source": [
        "def methodeTrapeze(function, terminalA, terminalB, step, formNumber):\n",
        "\n",
        "    calculIntegrateTrapeze = 0\n",
        "\n",
        "    print(Back.MAGENTA + Fore.WHITE +  \"Trapèze :\\n\")\n",
        "    jumpPrinter(1,True)\n",
        "\n",
        "    for k in range(formNumber):\n",
        "\n",
        "        print(Fore.CYAN +\"Trapèze\",k+1)\n",
        "        print(Fore.CYAN + \"Calcul :  f(Petit Côté) + f(Grand Côté)  => \",\"f(\", round(terminalA+(step*k),2),\")\", '+'  ,\"f(\", round(terminalA+(step*(k+1)),2),\")\",\" = \", round(function(terminalA+(step*k)) + function(terminalA+(step*(k+1))),2))\n",
        "        calculIntegrateTrapeze +=  function(terminalA+(step*k)) + function(terminalA+(step*(k+1)))\n",
        "    \n",
        "    jumpPrinter(1,False)\n",
        "    print(Fore.CYAN + \"Calcul : Sommes des Aires * Δ / 2 => \", round(calculIntegrateTrapeze,2) , \" * \", step , \" / \", \" 2 \", \" = \", calculIntegrateTrapeze * (step/2) )\n",
        "    calculIntegrateTrapeze *= (step/2)\n",
        "\n",
        "    jumpPrinter(2,False)\n",
        "    print(Style.BRIGHT + Fore.BLACK + \"Calcul Intégrée (Trapèze) : \", round(calculIntegrateTrapeze,4))\n",
        "\n",
        "    print(Style.BRIGHT + Fore.BLACK + \"Fonction Intégrée : \", round(functionIntegrate,4))\n",
        "    jumpPrinter(3,False)\n",
        "\n",
        "\n",
        "    jumpPrinter(1,True)\n",
        "    print(Fore.BLUE + \"Erreur (Trapèze) : \", round(errorCalcul(functionIntegrate,calculIntegrateTrapeze),4),\" %.\")\n",
        "    resetPrinter()\n",
        "\n",
        "    return round(errorCalcul(functionIntegrate,calculIntegrateTrapeze),4),round(calculIntegrateTrapeze,4);\n",
        "\n"
      ],
      "metadata": {
        "id": "NYw5zYLKVkH7"
      },
      "execution_count": 38,
      "outputs": []
    },
    {
      "cell_type": "code",
      "source": [
        "errorTrapeze, integrateTrapeze = methodeTrapeze(functionOriginal, borneA,borneB,Δ,nbrForme)"
      ],
      "metadata": {
        "colab": {
          "base_uri": "https://localhost:8080/"
        },
        "id": "p03ZjInFhpE0",
        "outputId": "38789dba-9f2e-41ca-efef-3a59348d0ffc"
      },
      "execution_count": 39,
      "outputs": [
        {
          "output_type": "stream",
          "name": "stdout",
          "text": [
            "\u001b[45m\u001b[37mTrapèze :\n",
            "\n",
            "\u001b[0m\n",
            "\n",
            "\n",
            "\u001b[36mTrapèze 1\n",
            "\u001b[36mCalcul :  f(Petit Côté) + f(Grand Côté)  =>  f( 1.0 ) + f( 1.5 )  =  1.67\n",
            "\u001b[36mTrapèze 2\n",
            "\u001b[36mCalcul :  f(Petit Côté) + f(Grand Côté)  =>  f( 1.5 ) + f( 2.0 )  =  1.17\n",
            "\u001b[36mTrapèze 3\n",
            "\u001b[36mCalcul :  f(Petit Côté) + f(Grand Côté)  =>  f( 2.0 ) + f( 2.5 )  =  0.9\n",
            "\u001b[36mTrapèze 4\n",
            "\u001b[36mCalcul :  f(Petit Côté) + f(Grand Côté)  =>  f( 2.5 ) + f( 3.0 )  =  0.73\n",
            "\u001b[36mTrapèze 5\n",
            "\u001b[36mCalcul :  f(Petit Côté) + f(Grand Côté)  =>  f( 3.0 ) + f( 3.5 )  =  0.62\n",
            "\u001b[36mTrapèze 6\n",
            "\u001b[36mCalcul :  f(Petit Côté) + f(Grand Côté)  =>  f( 3.5 ) + f( 4.0 )  =  0.54\n",
            "\n",
            "\n",
            "\u001b[36mCalcul : Sommes des Aires * Δ / 2 =>  5.62  *  0.5  /   2   =  1.4053571428571427\n",
            "\n",
            "\n",
            "\n",
            "\n",
            "\u001b[1m\u001b[30mCalcul Intégrée (Trapèze) :  1.4054\n",
            "\u001b[1m\u001b[30mFonction Intégrée :  1.3863\n",
            "\n",
            "\n",
            "\n",
            "\n",
            "\n",
            "\n",
            "\u001b[0m\n",
            "\n",
            "\n",
            "\u001b[34mErreur (Trapèze) :  1.3751  %.\n",
            "\u001b[0m\n"
          ]
        }
      ]
    },
    {
      "cell_type": "markdown",
      "source": [
        "___**Méthode des Simpson**___\n",
        "\n",
        "\n",
        "---\n",
        "<ul type=\"square\">\n",
        "Soit la fonction suivante :\n",
        "\n",
        "<li>$$\n",
        "f(x) = \\frac{1}{x}\n",
        "$$\n",
        "Et sa primitive :\n",
        "<li>$$\n",
        "F = \\int_a^b f(x) \\;dx\n",
        "$$\n",
        "<li>$$\n",
        "F = \\int_a^b \\frac{1}{x} \\;dx\n",
        "$$\n",
        "\n",
        "```\n",
        "- Les bornes devront être choisies par le client, ainsi que le nombre de formes à transmettre.\n",
        "```\n",
        "Illustration de la méthode :\n",
        "\n",
        "<img src=\"https://i.ibb.co/510RwN8/la-methode-de-Simpson.jpg\">"
      ],
      "metadata": {
        "id": "BKYIRU1AvADC"
      }
    },
    {
      "cell_type": "code",
      "source": [
        "def methodeSimpson(function, terminalA, terminalB, step, formNumber):\n",
        "\n",
        "    calculIntegrateSimpson = 0\n",
        "\n",
        "    print(Back.MAGENTA + Fore.WHITE +  \"Simpson :\\n\")\n",
        "    jumpPrinter(1,True)\n",
        "\n",
        "    somme = (function(terminalA) + function(terminalB)) / 2 + 2 * function(terminalA + step / 2)  # On initialise la somme\n",
        "\n",
        "    \n",
        "\n",
        "    for i in range(formNumber-1): # On calcule la somme n-1 fois\n",
        "\n",
        "        print(Fore.CYAN +\"Parabole\",i+1)\n",
        "        print(Fore.CYAN + \"Calcul : f(\",terminalA+(step*(i+1)),\") + 2* f(\",terminalA+(step*(i+1)) + step / 2,\")\")\n",
        "        somme += function(terminalA+(step*(i+1))) + 2 * function(terminalA+(step*(i+1)) + step / 2)\n",
        "\n",
        "    calculIntegrateSimpson =  somme * step / 3   # On retourne cette somme fois le pas / 3   \n",
        "\n",
        "\n",
        "    jumpPrinter(2,False)\n",
        "    print(Style.BRIGHT + Fore.BLACK + \"Calcul Intégrée (Simpson) : \", round(calculIntegrateSimpson,4))\n",
        "\n",
        "    print(Style.BRIGHT + Fore.BLACK + \"Fonction Intégrée : \", round(functionIntegrate,4))\n",
        "    jumpPrinter(3,False)\n",
        "\n",
        "    jumpPrinter(1,True)\n",
        "    print(Fore.BLUE + \"Erreur (Simpson) : \", round(errorCalcul(functionIntegrate,calculIntegrateSimpson),4),\" %.\")\n",
        "    resetPrinter()\n",
        "\n",
        "    return round(errorCalcul(functionIntegrate,calculIntegrateSimpson),4), round(calculIntegrateSimpson,4);\n",
        "\n"
      ],
      "metadata": {
        "id": "VIIuKeTfM-J9"
      },
      "execution_count": 40,
      "outputs": []
    },
    {
      "cell_type": "code",
      "source": [
        "errorSimpson, integrateSimpson = methodeSimpson(functionOriginal, borneA,borneB,Δ ,nbrForme)"
      ],
      "metadata": {
        "colab": {
          "base_uri": "https://localhost:8080/"
        },
        "id": "ns22bF23hmeN",
        "outputId": "27e31ce2-a9b7-4a0a-d6a9-13c49e6c9ba7"
      },
      "execution_count": 41,
      "outputs": [
        {
          "output_type": "stream",
          "name": "stdout",
          "text": [
            "\u001b[45m\u001b[37mSimpson :\n",
            "\n",
            "\u001b[0m\n",
            "\n",
            "\n",
            "\u001b[36mParabole 1\n",
            "\u001b[36mCalcul : f( 1.5 ) + 2* f( 1.75 )\n",
            "\u001b[36mParabole 2\n",
            "\u001b[36mCalcul : f( 2.0 ) + 2* f( 2.25 )\n",
            "\u001b[36mParabole 3\n",
            "\u001b[36mCalcul : f( 2.5 ) + 2* f( 2.75 )\n",
            "\u001b[36mParabole 4\n",
            "\u001b[36mCalcul : f( 3.0 ) + 2* f( 3.25 )\n",
            "\u001b[36mParabole 5\n",
            "\u001b[36mCalcul : f( 3.5 ) + 2* f( 3.75 )\n",
            "\n",
            "\n",
            "\n",
            "\n",
            "\u001b[1m\u001b[30mCalcul Intégrée (Simpson) :  1.3864\n",
            "\u001b[1m\u001b[30mFonction Intégrée :  1.3863\n",
            "\n",
            "\n",
            "\n",
            "\n",
            "\n",
            "\n",
            "\u001b[0m\n",
            "\n",
            "\n",
            "\u001b[34mErreur (Simpson) :  0.0082  %.\n",
            "\u001b[0m\n"
          ]
        }
      ]
    },
    {
      "cell_type": "markdown",
      "source": [
        "\n",
        "> Récapitulatif erreur\n",
        "\n",
        "\n",
        ">> La méthode des Simpson est la meilleure dans ce cas !"
      ],
      "metadata": {
        "id": "EjSf0e913lj6"
      }
    },
    {
      "cell_type": "code",
      "source": [
        "jumpPrinter(1,True)\n",
        "print(Fore.BLUE + \"Valeur (Intégrale) : \", round(functionIntegrate,4),\" .\")\n",
        "print(Fore.BLUE + \"Erreur (Intégrale) : \", 0,\" %.\")\n",
        "resetPrinter()\n",
        "\n",
        "jumpPrinter(1,True)\n",
        "print(Fore.BLUE + \"Valeur (Rectangle Bas) : \", integrateRectDown,\" .\")\n",
        "print(Fore.BLUE + \"Erreur (Rectangle Bas) : \", errorRectDown,\" %.\")\n",
        "resetPrinter()\n",
        "\n",
        "jumpPrinter(1,True)\n",
        "print(Fore.BLUE + \"Valeur (Rectangle Haut) : \", integrateRectUp,\" .\")\n",
        "print(Fore.BLUE + \"Erreur (Rectangle Haut) : \", errorRectUp,\" %.\")\n",
        "resetPrinter()\n",
        "\n",
        "jumpPrinter(1,True)\n",
        "print(Fore.BLUE + \"Valeur (Trapèze) : \", integrateTrapeze,\" .\")\n",
        "print(Fore.BLUE + \"Erreur (Trapèze) : \", errorTrapeze,\" %.\")\n",
        "resetPrinter()\n",
        "\n",
        "jumpPrinter(1,True)\n",
        "print(Fore.BLUE + \"Valeur (Simpson) : \", integrateSimpson,\" .\")\n",
        "print(Fore.BLUE + \"Erreur (Simpson) : \", errorSimpson,\" %.\")\n",
        "resetPrinter()\n",
        "\n"
      ],
      "metadata": {
        "colab": {
          "base_uri": "https://localhost:8080/"
        },
        "id": "jmE-2WM_3rYV",
        "outputId": "1c7592da-4cdd-4752-91c7-2309661b0ede"
      },
      "execution_count": 42,
      "outputs": [
        {
          "output_type": "stream",
          "name": "stdout",
          "text": [
            "\u001b[0m\n",
            "\n",
            "\n",
            "\u001b[34mValeur (Intégrale) :  1.3863  .\n",
            "\u001b[34mErreur (Intégrale) :  0  %.\n",
            "\u001b[0m\n",
            "\u001b[0m\n",
            "\n",
            "\n",
            "\u001b[34mValeur (Rectangle Bas) :  1.2179  .\n",
            "\u001b[34mErreur (Rectangle Bas) :  12.1502  %.\n",
            "\u001b[0m\n",
            "\u001b[0m\n",
            "\n",
            "\n",
            "\u001b[34mValeur (Rectangle Haut) :  1.5929  .\n",
            "\u001b[34mErreur (Rectangle Haut) :  14.9004  %.\n",
            "\u001b[0m\n",
            "\u001b[0m\n",
            "\n",
            "\n",
            "\u001b[34mValeur (Trapèze) :  1.4054  .\n",
            "\u001b[34mErreur (Trapèze) :  1.3751  %.\n",
            "\u001b[0m\n",
            "\u001b[0m\n",
            "\n",
            "\n",
            "\u001b[34mValeur (Simpson) :  1.3864  .\n",
            "\u001b[34mErreur (Simpson) :  0.0082  %.\n",
            "\u001b[0m\n"
          ]
        }
      ]
    },
    {
      "cell_type": "markdown",
      "source": [
        "**II. Exercice - Redressement bi-alternance**\n"
      ],
      "metadata": {
        "id": "4Rdeuth54fwi"
      }
    },
    {
      "cell_type": "markdown",
      "source": [
        "\n",
        " ```markdown\n",
        ">> Déclarons en premier lieu les bornes.\n",
        ">> Intégrons notre fonction, avec une fonction importé d'une librairie.\n",
        "```"
      ],
      "metadata": {
        "id": "fFrrxrvl42OS"
      }
    },
    {
      "cell_type": "code",
      "source": [
        "borneA,borneB = queryTerminal()\n",
        "\n",
        "print(Style.BRIGHT + Fore.BLACK +\"Fonction Entrée : \",functionSecondPrinter(), \" avec les bornes A et B respectivement : \",borneA, \" & \",borneB)\n",
        "\n",
        "functionIntegrate,calculError = quad(functionSecond, borneA, borneB) \n",
        "\n",
        "jumpPrinter(1,True)\n",
        "print(Fore.BLUE + \"Fonction Intégrée : \", round(functionIntegrate,4))\n",
        "resetPrinter()"
      ],
      "metadata": {
        "colab": {
          "base_uri": "https://localhost:8080/"
        },
        "id": "_5LDU_BW5JXe",
        "outputId": "39a36003-d15a-4e57-86a3-46898089672e"
      },
      "execution_count": 43,
      "outputs": [
        {
          "output_type": "stream",
          "name": "stdout",
          "text": [
            "\u001b[41m\u001b[37mMerci d'entrer un entier positif ou négatif, pour les 2 variables suivantes !\n",
            "\u001b[0m\n",
            "\n",
            "\n",
            "\u001b[40m\n",
            "- Entrez la borne 'a' : 3.14\n",
            "- Entrez la borne 'b' : 9.42\n",
            "\u001b[0m\n",
            "\n",
            "\n",
            "\n",
            "\n",
            "\u001b[1m\u001b[33mLes bornes sont respectivement :  3.14  &  9.42  .\n",
            "\u001b[0m\n",
            "\u001b[1m\u001b[30mFonction Entrée :  30.abs(sin(x))  avec les bornes A et B respectivement :  3.14  &  9.42\n",
            "\u001b[0m\n",
            "\n",
            "\n",
            "\u001b[34mFonction Intégrée :  119.9993\n",
            "\u001b[0m\n"
          ]
        }
      ]
    },
    {
      "cell_type": "code",
      "source": [
        "plt.grid()\n",
        "plt.plot(np.linspace (borneA , borneB , 100) , functionSecond(np.linspace (borneA , borneB , 100)) ,\"r--\",linewidth= \"4\" ) # courbe trac ée en rouge\n",
        "plt.xlabel(\"abscisses (x)\") # mettre un nom à l’axe des abscisses\n",
        "plt.ylabel(\"ordonnées (y)\") # mettre un nom à l’axe des ordonn ées\n",
        "plt.title(\"Fonction 30*abs(sin(x))\") # mettre un titre à la figure\n",
        "#plt.xlim(borneA-0.2,borneB+0.2)\n",
        "#plt.ylim(0,1.2)\n",
        "plt.fill_between(np.linspace (borneA , borneB , 100),functionSecond(np.linspace (borneA , borneB , 100)),0,color='c')\n",
        "plt.legend([\"f(x)\", \"Aire Courbe\"]) # donne une lé gende au graphique\n",
        "plt.show()"
      ],
      "metadata": {
        "colab": {
          "base_uri": "https://localhost:8080/",
          "height": 295
        },
        "id": "uEnhuTdIgfuE",
        "outputId": "e8f7e33f-c5a7-4cff-f27e-fc1ca7dd7f8c"
      },
      "execution_count": 14,
      "outputs": [
        {
          "output_type": "display_data",
          "data": {
            "text/plain": [
              "<Figure size 432x288 with 1 Axes>"
            ],
            "image/png": "[encoded data removed]"
          },
          "metadata": {
            "needs_background": "light"
          }
        }
      ]
    },
    {
      "cell_type": "markdown",
      "source": [
        "```markdown\n",
        ">> Définissons notre pas (h).\n",
        "```"
      ],
      "metadata": {
        "id": "UN9H31mU8gIQ"
      }
    },
    {
      "cell_type": "code",
      "source": [
        "nbrForme, Δ = methodWithGeometryArg()"
      ],
      "metadata": {
        "colab": {
          "base_uri": "https://localhost:8080/"
        },
        "id": "zwzEueGI8kf5",
        "outputId": "eb4ac1f3-d7bd-4656-e397-29bd4dcd1b67"
      },
      "execution_count": 44,
      "outputs": [
        {
          "output_type": "stream",
          "name": "stdout",
          "text": [
            "\u001b[1m\u001b[33mDéclaration avec les bornes suivantes :  3.14  &  9.42\n",
            "\n",
            "\n",
            "\n",
            "\n",
            "\u001b[0m\n",
            "\u001b[1mVous pouvez déclarer le pas par 2 méthodes : \n",
            "\n",
            "- soit en déclarant le nombre de forme, \n",
            "\n",
            "- soit en déclarant le pas directement.\n",
            "\n",
            "\n",
            " Que préférez vous ?\n",
            "\u001b[40m\n",
            "- Rentrez le chiffre correspondant :\n",
            "\n",
            "Déclaration de N (Nombre de forme) => 0.\n",
            "\n",
            "Déclaration de H (Pas) => 1.\n",
            "\n",
            "\n",
            " Choix : 0\n",
            "\n",
            "\n",
            "\n",
            "\n",
            "\n",
            "\n",
            "\u001b[0m\n",
            "\u001b[41m\u001b[37mMerci d'entrer un entier positif, pour l'unique variable suivante !\n",
            "\u001b[0m\n",
            "\n",
            "\n",
            "\u001b[40m\n",
            "- Entrez le nombre de forme : 6\n",
            "\u001b[0m\n",
            "\n",
            "\n",
            "\n",
            "\n",
            "\u001b[1m\u001b[33mLe nombre de forme est de :  6  .\n",
            "\u001b[1m\u001b[33mLe pas est de :  1.0466666666666666  .\n"
          ]
        }
      ]
    },
    {
      "cell_type": "markdown",
      "source": [
        "\n",
        "> Récapitulatif erreur\n",
        "\n",
        "\n",
        ">> La méthode des Simpson est la meilleure dans ce cas !"
      ],
      "metadata": {
        "id": "vW-Zd7Wq8PQ6"
      }
    },
    {
      "cell_type": "code",
      "source": [
        "errorRectUp, errorRectDown, integrateRectUp, integrateRectDown = methodeRect(functionSecond, borneA,borneB,Δ,nbrForme)\n",
        "\n",
        "errorTrapeze, integrateTrapeze = methodeTrapeze(functionSecond, borneA,borneB,Δ,nbrForme)\n",
        "\n",
        "errorSimpson, integrateSimpson = methodeSimpson(functionSecond, borneA,borneB,Δ ,nbrForme)\n",
        "\n",
        "\n",
        "\n"
      ],
      "metadata": {
        "colab": {
          "base_uri": "https://localhost:8080/"
        },
        "id": "UlzAss5v8Ohv",
        "outputId": "1fc1131c-5294-426c-da99-972a1e636767"
      },
      "execution_count": 45,
      "outputs": [
        {
          "output_type": "stream",
          "name": "stdout",
          "text": [
            "\u001b[45m\u001b[37mRectangle du Haut :\n",
            "\u001b[0m\n",
            "\n",
            "\n",
            "\u001b[36mRectangle 1\n",
            "\u001b[36mCalcul : Δ * f(sommet Rectangle) =>  1.0466666666666666  x  f( 3.14 )  =  0.052333333333333336\n",
            "\u001b[36mRectangle 2\n",
            "\u001b[36mCalcul : Δ * f(sommet Rectangle) =>  1.0466666666666666  x  f( 4.19 )  =  27.160999999999998\n",
            "\u001b[36mRectangle 3\n",
            "\u001b[36mCalcul : Δ * f(sommet Rectangle) =>  1.0466666666666666  x  f( 5.23 )  =  27.234266666666667\n",
            "\u001b[36mRectangle 4\n",
            "\u001b[36mCalcul : Δ * f(sommet Rectangle) =>  1.0466666666666666  x  f( 6.28 )  =  0.10466666666666667\n",
            "\u001b[36mRectangle 5\n",
            "\u001b[36mCalcul : Δ * f(sommet Rectangle) =>  1.0466666666666666  x  f( 7.33 )  =  27.1296\n",
            "\u001b[36mRectangle 6\n",
            "\u001b[36mCalcul : Δ * f(sommet Rectangle) =>  1.0466666666666666  x  f( 8.37 )  =  27.2552\n",
            "\u001b[0m\n",
            "\n",
            "\n",
            "\n",
            "\n",
            "\n",
            "\n",
            "\u001b[45m\u001b[37mRectangle du Bas :\n",
            "\u001b[0m\n",
            "\n",
            "\n",
            "\u001b[36mRectangle 1\n",
            "\u001b[36mCalcul : Δ * f(sommet Rectangle) =>  1.0466666666666666  x  f( 4.19 )  =  27.160999999999998\n",
            "\u001b[36mRectangle 2\n",
            "\u001b[36mCalcul : Δ * f(sommet Rectangle) =>  1.0466666666666666  x  f( 5.23 )  =  27.234266666666667\n",
            "\u001b[36mRectangle 3\n",
            "\u001b[36mCalcul : Δ * f(sommet Rectangle) =>  1.0466666666666666  x  f( 6.28 )  =  0.10466666666666667\n",
            "\u001b[36mRectangle 4\n",
            "\u001b[36mCalcul : Δ * f(sommet Rectangle) =>  1.0466666666666666  x  f( 7.33 )  =  27.1296\n",
            "\u001b[36mRectangle 5\n",
            "\u001b[36mCalcul : Δ * f(sommet Rectangle) =>  1.0466666666666666  x  f( 8.37 )  =  27.2552\n",
            "\u001b[36mRectangle 6\n",
            "\u001b[36mCalcul : Δ * f(sommet Rectangle) =>  1.0466666666666666  x  f( 9.42 )  =  0.14653333333333335\n",
            "\n",
            "\n",
            "\n",
            "\n",
            "\u001b[1m\u001b[30mCalcul Intégrée (Rectangle du Bas) :  109.0389\n",
            "\u001b[1m\u001b[30mCalcul Intégrée (Rectangle du Haut) :  108.9389\n",
            "\u001b[1m\u001b[30mFonction Intégrée :  119.9993\n",
            "\n",
            "\n",
            "\n",
            "\n",
            "\n",
            "\n",
            "\u001b[0m\n",
            "\n",
            "\n",
            "\u001b[34mErreur (Rectangle du Bas) :  9.1337  %.\n",
            "\u001b[34mErreur (Rectangle du Haut) :  9.2171  %.\n",
            "\u001b[0m\n",
            "\u001b[45m\u001b[37mTrapèze :\n",
            "\n",
            "\u001b[0m\n",
            "\n",
            "\n",
            "\u001b[36mTrapèze 1\n",
            "\u001b[36mCalcul :  f(Petit Côté) + f(Grand Côté)  =>  f( 3.14 ) + f( 4.19 )  =  26.0\n",
            "\u001b[36mTrapèze 2\n",
            "\u001b[36mCalcul :  f(Petit Côté) + f(Grand Côté)  =>  f( 4.19 ) + f( 5.23 )  =  51.97\n",
            "\u001b[36mTrapèze 3\n",
            "\u001b[36mCalcul :  f(Petit Côté) + f(Grand Côté)  =>  f( 5.23 ) + f( 6.28 )  =  26.12\n",
            "\u001b[36mTrapèze 4\n",
            "\u001b[36mCalcul :  f(Petit Côté) + f(Grand Côté)  =>  f( 6.28 ) + f( 7.33 )  =  26.02\n",
            "\u001b[36mTrapèze 5\n",
            "\u001b[36mCalcul :  f(Petit Côté) + f(Grand Côté)  =>  f( 7.33 ) + f( 8.37 )  =  51.97\n",
            "\u001b[36mTrapèze 6\n",
            "\u001b[36mCalcul :  f(Petit Côté) + f(Grand Côté)  =>  f( 8.37 ) + f( 9.42 )  =  26.19\n",
            "\n",
            "\n",
            "\u001b[36mCalcul : Sommes des Aires * Δ / 2 =>  208.26  *  1.0466666666666666  /   2   =  108.98890709124863\n",
            "\n",
            "\n",
            "\n",
            "\n",
            "\u001b[1m\u001b[30mCalcul Intégrée (Trapèze) :  108.9889\n",
            "\u001b[1m\u001b[30mFonction Intégrée :  119.9993\n",
            "\n",
            "\n",
            "\n",
            "\n",
            "\n",
            "\n",
            "\u001b[0m\n",
            "\n",
            "\n",
            "\u001b[34mErreur (Trapèze) :  9.1754  %.\n",
            "\u001b[0m\n",
            "\u001b[45m\u001b[37mSimpson :\n",
            "\n",
            "\u001b[0m\n",
            "\n",
            "\n",
            "\u001b[36mParabole 1\n",
            "\u001b[36mCalcul : f( 4.1866666666666665 ) + 2* f( 4.71 )\n",
            "\u001b[36mParabole 2\n",
            "\u001b[36mCalcul : f( 5.233333333333333 ) + 2* f( 5.756666666666667 )\n",
            "\u001b[36mParabole 3\n",
            "\u001b[36mCalcul : f( 6.279999999999999 ) + 2* f( 6.803333333333333 )\n",
            "\u001b[36mParabole 4\n",
            "\u001b[36mCalcul : f( 7.326666666666666 ) + 2* f( 7.85 )\n",
            "\u001b[36mParabole 5\n",
            "\u001b[36mCalcul : f( 8.373333333333333 ) + 2* f( 8.896666666666667 )\n",
            "\n",
            "\n",
            "\n",
            "\n",
            "\u001b[1m\u001b[30mCalcul Intégrée (Simpson) :  120.101\n",
            "\u001b[1m\u001b[30mFonction Intégrée :  119.9993\n",
            "\n",
            "\n",
            "\n",
            "\n",
            "\n",
            "\n",
            "\u001b[0m\n",
            "\n",
            "\n",
            "\u001b[34mErreur (Simpson) :  0.0847  %.\n",
            "\u001b[0m\n"
          ]
        }
      ]
    },
    {
      "cell_type": "markdown",
      "source": [
        "\n",
        "> Récapitulatif erreur\n",
        "\n",
        "\n",
        ">> La méthode des Simpson est la meilleure dans ce cas !"
      ],
      "metadata": {
        "id": "3mrjluAW9r7o"
      }
    },
    {
      "cell_type": "code",
      "source": [
        "jumpPrinter(1,True)\n",
        "print(Fore.BLUE + \"Valeur (Intégrale) : \", round(functionIntegrate,4),\" .\")\n",
        "print(Fore.BLUE + \"Erreur (Intégrale) : \", 0,\" %.\")\n",
        "resetPrinter()\n",
        "\n",
        "jumpPrinter(1,True)\n",
        "print(Fore.BLUE + \"Valeur (Rectangle Bas) : \", integrateRectDown,\" .\")\n",
        "print(Fore.BLUE + \"Erreur (Rectangle Bas) : \", errorRectDown,\" %.\")\n",
        "resetPrinter()\n",
        "\n",
        "jumpPrinter(1,True)\n",
        "print(Fore.BLUE + \"Valeur (Rectangle Haut) : \", integrateRectUp,\" .\")\n",
        "print(Fore.BLUE + \"Erreur (Rectangle Haut) : \", errorRectUp,\" %.\")\n",
        "resetPrinter()\n",
        "\n",
        "jumpPrinter(1,True)\n",
        "print(Fore.BLUE + \"Valeur (Trapèze) : \", integrateTrapeze,\" .\")\n",
        "print(Fore.BLUE + \"Erreur (Trapèze) : \", errorTrapeze,\" %.\")\n",
        "resetPrinter()\n",
        "\n",
        "jumpPrinter(1,True)\n",
        "print(Fore.BLUE + \"Valeur (Simpson) : \", integrateSimpson,\" .\")\n",
        "print(Fore.BLUE + \"Erreur (Simpson) : \", errorSimpson,\" %.\")\n",
        "resetPrinter()\n",
        "\n"
      ],
      "metadata": {
        "colab": {
          "base_uri": "https://localhost:8080/"
        },
        "id": "9xAaTKVl9k68",
        "outputId": "da76b08b-9770-48f0-ff3d-ddcc953e9dc3"
      },
      "execution_count": 46,
      "outputs": [
        {
          "output_type": "stream",
          "name": "stdout",
          "text": [
            "\u001b[0m\n",
            "\n",
            "\n",
            "\u001b[34mValeur (Intégrale) :  119.9993  .\n",
            "\u001b[34mErreur (Intégrale) :  0  %.\n",
            "\u001b[0m\n",
            "\u001b[0m\n",
            "\n",
            "\n",
            "\u001b[34mValeur (Rectangle Bas) :  109.0389  .\n",
            "\u001b[34mErreur (Rectangle Bas) :  9.1337  %.\n",
            "\u001b[0m\n",
            "\u001b[0m\n",
            "\n",
            "\n",
            "\u001b[34mValeur (Rectangle Haut) :  108.9389  .\n",
            "\u001b[34mErreur (Rectangle Haut) :  9.2171  %.\n",
            "\u001b[0m\n",
            "\u001b[0m\n",
            "\n",
            "\n",
            "\u001b[34mValeur (Trapèze) :  108.9889  .\n",
            "\u001b[34mErreur (Trapèze) :  9.1754  %.\n",
            "\u001b[0m\n",
            "\u001b[0m\n",
            "\n",
            "\n",
            "\u001b[34mValeur (Simpson) :  120.101  .\n",
            "\u001b[34mErreur (Simpson) :  0.0847  %.\n",
            "\u001b[0m\n"
          ]
        }
      ]
    }
  ]
}