{
  "nbformat": 4,
  "nbformat_minor": 0,
  "metadata": {
    "colab": {
      "name": "Equation Diff",
      "provenance": [],
      "authorship_tag": "ABX9TyN8BpDpN78repw4uUoIL4B6",
      "include_colab_link": true
    },
    "kernelspec": {
      "name": "python3",
      "display_name": "Python 3"
    },
    "language_info": {
      "name": "python"
    }
  },
  "cells": [
    {
      "cell_type": "markdown",
      "metadata": {
        "id": "view-in-github",
        "colab_type": "text"
      },
      "source": [
        "<a href=\"https://colab.research.google.com/github/Hyro9533/sharing-code/blob/main/Equation_Diff.ipynb\" target=\"_parent\"><img src=\"https://colab.research.google.com/assets/colab-badge.svg\" alt=\"Open In Colab\"/></a>"
      ]
    },
    {
      "cell_type": "markdown",
      "source": [
        "**TP Outils Logiciels 2**\n",
        "\n",
        "*Régime Variable*\n",
        "\n",
        "---\n",
        "\n",
        "Edité par MONTGUILLON Jonathan TP4."
      ],
      "metadata": {
        "id": "nIdgPHNkc8RI"
      }
    },
    {
      "cell_type": "markdown",
      "source": [
        "<img src = \"http://www.stillincontact.com/images/ecoles/10792.jpg\">"
      ],
      "metadata": {
        "id": "SxoxHLXut6W5"
      }
    },
    {
      "cell_type": "markdown",
      "source": [
        "I. **Préparation du Projet**\n",
        "\n",
        "```markdown\n",
        ">> Importations de librairies communes au projet.\n",
        "```"
      ],
      "metadata": {
        "id": "3XJVmurmfmfV"
      }
    },
    {
      "cell_type": "code",
      "source": [
        "!apt-get install python-scipy\n",
        "from scipy.integrate import solve_ivp\n",
        "from scipy import misc "
      ],
      "metadata": {
        "colab": {
          "base_uri": "https://localhost:8080/"
        },
        "id": "IDOwTA1kWJDd",
        "outputId": "243d3b37-9c3d-45c4-f9c5-5ce71e50dba7"
      },
      "execution_count": null,
      "outputs": [
        {
          "output_type": "stream",
          "name": "stdout",
          "text": [
            "Reading package lists... Done\n",
            "Building dependency tree       \n",
            "Reading state information... Done\n",
            "The following package was automatically installed and is no longer required:\n",
            "  libnvidia-common-460\n",
            "Use 'apt autoremove' to remove it.\n",
            "The following additional packages will be installed:\n",
            "  python-decorator python-olefile python-pil\n",
            "Suggested packages:\n",
            "  python-pil-doc python-pil-dbg python-scipy-doc\n",
            "The following NEW packages will be installed:\n",
            "  python-decorator python-olefile python-pil python-scipy\n",
            "0 upgraded, 4 newly installed, 0 to remove and 45 not upgraded.\n",
            "Need to get 10.0 MB of archives.\n",
            "After this operation, 43.3 MB of additional disk space will be used.\n",
            "Get:1 http://archive.ubuntu.com/ubuntu bionic/main amd64 python-decorator all 4.1.2-1 [9,300 B]\n",
            "Get:2 http://archive.ubuntu.com/ubuntu bionic/main amd64 python-olefile all 0.45.1-1 [33.2 kB]\n",
            "Get:3 http://archive.ubuntu.com/ubuntu bionic-updates/main amd64 python-pil amd64 5.1.0-1ubuntu0.7 [303 kB]\n",
            "Get:4 http://archive.ubuntu.com/ubuntu bionic/universe amd64 python-scipy amd64 0.19.1-2ubuntu1 [9,689 kB]\n",
            "Fetched 10.0 MB in 1s (8,295 kB/s)\n",
            "Selecting previously unselected package python-decorator.\n",
            "(Reading database ... 155632 files and directories currently installed.)\n",
            "Preparing to unpack .../python-decorator_4.1.2-1_all.deb ...\n",
            "Unpacking python-decorator (4.1.2-1) ...\n",
            "Selecting previously unselected package python-olefile.\n",
            "Preparing to unpack .../python-olefile_0.45.1-1_all.deb ...\n",
            "Unpacking python-olefile (0.45.1-1) ...\n",
            "Selecting previously unselected package python-pil:amd64.\n",
            "Preparing to unpack .../python-pil_5.1.0-1ubuntu0.7_amd64.deb ...\n",
            "Unpacking python-pil:amd64 (5.1.0-1ubuntu0.7) ...\n",
            "Selecting previously unselected package python-scipy.\n",
            "Preparing to unpack .../python-scipy_0.19.1-2ubuntu1_amd64.deb ...\n",
            "Unpacking python-scipy (0.19.1-2ubuntu1) ...\n",
            "Setting up python-olefile (0.45.1-1) ...\n",
            "Setting up python-decorator (4.1.2-1) ...\n",
            "Setting up python-pil:amd64 (5.1.0-1ubuntu0.7) ...\n",
            "Setting up python-scipy (0.19.1-2ubuntu1) ...\n"
          ]
        }
      ]
    },
    {
      "cell_type": "code",
      "source": [
        "#Installation d'une librairie d'affichage en couleur au niveau du terminal.\n",
        "!pip install colorama\n",
        "import colorama\n",
        "from colorama import init, Fore, Back, Style\n",
        "\n",
        "''' \n",
        "Fore: BLACK, RED, GREEN, YELLOW, BLUE, MAGENTA, CYAN, WHITE, RESET.\n",
        "Back: BLACK, RED, GREEN, YELLOW, BLUE, MAGENTA, CYAN, WHITE, RESET.\n",
        "Style: DIM, NORMAL, BRIGHT, RESET_ALL\n",
        "'''\n",
        "\n",
        "#Installation de librairies mathématiques\n",
        "\n",
        "\n",
        "\n",
        "import numpy as np\n",
        "import matplotlib.pyplot as plt"
      ],
      "metadata": {
        "colab": {
          "base_uri": "https://localhost:8080/"
        },
        "id": "tlO9goGAvNTW",
        "outputId": "8baa35c8-ee78-4430-a5ce-f2456fb2837f"
      },
      "execution_count": null,
      "outputs": [
        {
          "output_type": "stream",
          "name": "stdout",
          "text": [
            "Looking in indexes: https://pypi.org/simple, https://us-python.pkg.dev/colab-wheels/public/simple/\n",
            "Collecting colorama\n",
            "  Downloading colorama-0.4.4-py2.py3-none-any.whl (16 kB)\n",
            "Installing collected packages: colorama\n",
            "Successfully installed colorama-0.4.4\n"
          ]
        }
      ]
    },
    {
      "cell_type": "markdown",
      "source": [
        "```markdown\n",
        ">> Définitions de fonctions communes au projet, non essentiel aux exercices demandés.\n",
        "```"
      ],
      "metadata": {
        "id": "RIbPoX7zvY0I"
      }
    },
    {
      "cell_type": "code",
      "source": [
        "#Déifiniton de plusieurs fonctions qui permettent une optimisation du projet.\n",
        "\n",
        "def jumpPrinter(loop,reset):\n",
        "    if reset:\n",
        "        resetPrinter()\n",
        "    for k in range(loop):\n",
        "        print(\"\\n\")\n",
        "    return \n",
        "\n",
        "def resetPrinter():\n",
        "    return print(Style.RESET_ALL)\n",
        "\n",
        "def isfloat(value): \n",
        "    try: \n",
        "        float(value) \n",
        "        return True \n",
        "    except ValueError: \n",
        "        return False"
      ],
      "metadata": {
        "id": "Az1JFPCZvYvU"
      },
      "execution_count": null,
      "outputs": []
    },
    {
      "cell_type": "markdown",
      "source": [
        "---\n",
        "---\n",
        "---\n",
        "---\n",
        "---"
      ],
      "metadata": {
        "id": "b4aM44Src1gZ"
      }
    },
    {
      "cell_type": "markdown",
      "source": [
        "```markdown\n",
        ">> Définitions d'un circuit RC.\n",
        "```\n",
        "\n",
        "<img src = \"https://www.methodephysique.fr/circuit_RC.jpg\"> \n",
        "\n",
        "\n",
        "\n"
      ],
      "metadata": {
        "id": "fkG6D0nRv8bB"
      }
    },
    {
      "cell_type": "markdown",
      "source": [
        "```\n",
        ">> Définitions des caractéristiques de dipôle \n",
        "```\n",
        "$$\n",
        "U_r(t) = R*i(t)\n",
        "$$\n",
        "$$\n",
        "U_c(t) = \\frac{1}{C}\\int i_c(t) \\;dt\n",
        "$$\n",
        "$$\n",
        "I_c(t) = C*\\frac{du_c(t)}{dt}\n",
        "$$\n"
      ],
      "metadata": {
        "id": "JOi-NR2VMJ2L"
      }
    },
    {
      "cell_type": "markdown",
      "source": [
        "```\n",
        ">> Définition de la loi des Mailles \n",
        "```\n",
        "\n",
        "$$\n",
        "e(t) = U_r(t) + U_c(t)\n",
        "$$"
      ],
      "metadata": {
        "id": "j4G0kAkYNnGq"
      }
    },
    {
      "cell_type": "markdown",
      "source": [
        "```markdown\n",
        ">> On cherche une équation différentielle entre e(t) et U_c(t), qui deviendra Vs(t)\n",
        "```\n",
        "\n",
        "Ce qui nous donne :\n",
        "\n",
        "$$\n",
        "e(t) = R*i(t) + U_c(t)\n",
        "$$\n",
        "\n",
        "Or i(t) est constant sur le circuit car parralèle, définissons i(t) avec notre condensateur.\n",
        "\n",
        "$$\n",
        "e(t) = R*(C*\\frac{du_c(t)}{dt}) + U_c(t)\n",
        "$$\n",
        "\n",
        "$$\n",
        "e(t) = RC*\\frac{du_c(t)}{dt} + U_c(t)\n",
        "$$\n",
        "\n",
        "Equivalent à :   \n",
        "\n",
        "$$\n",
        "e(t) = RC*\\frac{dVs(t)}{dt} + Vs(t)\n",
        "$$\n",
        "\n",
        "Nous avons bien une équation de la forme :     \n",
        "\n",
        "$$\n",
        "e(t) = a*\\frac{ds(t)}{dt} + b*s(t)\n",
        "$$\n",
        "\n",
        "Avec a = RC, B = 1. Ainsi τ = a = RC"
      ],
      "metadata": {
        "id": "ijgak786Nwnp"
      }
    },
    {
      "cell_type": "markdown",
      "source": [
        "```markdown\n",
        ">> Définition d'une fonction pour la valeur du générateur.\n",
        "```"
      ],
      "metadata": {
        "id": "bByTCdHqW4JX"
      }
    },
    {
      "cell_type": "code",
      "source": [
        "valueOfG = \"IS NOT DEFINED\"\n",
        "\n",
        "def queryGeneratorVoltage():\n",
        "\n",
        "    generator = 'IS NOT DEFINED'\n",
        "\n",
        "    print(Back.RED + Fore.WHITE + \"Merci d'entrer un entier ou float positif, pour les variables suivantes !\")\n",
        "    jumpPrinter(1,True)\n",
        "    print(Back.BLACK)\n",
        "\n",
        "    while( (isfloat(generator) == False) ):\n",
        "        generator = (input(\"- Entrez la valeur du générateur e(t) en V : \"))\n",
        "    generator = float(generator)\n",
        "\n",
        "    jumpPrinter(2,True)\n",
        "\n",
        "    return generator"
      ],
      "metadata": {
        "id": "AA5Dwd9gU5_A"
      },
      "execution_count": null,
      "outputs": []
    },
    {
      "cell_type": "markdown",
      "source": [
        "```markdown\n",
        ">> Définition d'une fonction pour les valeurs de dipôles.\n",
        "```"
      ],
      "metadata": {
        "id": "GHFkuqeBW9Zi"
      }
    },
    {
      "cell_type": "code",
      "source": [
        "valueOfR = \"IS NOT DEFINED\"\n",
        "valueOfC = \"IS NOT DEFINED\"\n",
        "valueOfL = \"IS NOT DEFINED\"\n",
        "\n",
        "def queryDipole(Resistor_Emmit, Capacity_Emmit, Inductor_Emmit):\n",
        "    \n",
        "    Resistor = 'IS NOT DEFINED'\n",
        "    Capacity = 'IS NOT DEFINED'\n",
        "    Inductor = 'IS NOT DEFINED'\n",
        "\n",
        "    print(Back.RED + Fore.WHITE + \"Merci d'entrer un entier ou float positif, pour les variables suivantes !\")\n",
        "    jumpPrinter(1,True)\n",
        "    print(Back.BLACK)\n",
        "\n",
        "    if(Resistor_Emmit) : \n",
        "    \n",
        "        while( (isfloat(Resistor) == False) ):\n",
        "            Resistor = (input(\"- Entrez la valeur de la résistance (R) en Ω : \"))\n",
        "        Resistor = float(Resistor)\n",
        "\n",
        "    if(Capacity_Emmit) : \n",
        "    \n",
        "        while( (isfloat(Capacity) == False) ):\n",
        "            Capacity = (input(\"- Entrez la valeur du condensateur (C) en nF: \"))\n",
        "        Capacity = float(Capacity)\n",
        "\n",
        "    if(Inductor_Emmit) : \n",
        "    \n",
        "        while( (isfloat(Inductor) == False) ):\n",
        "            Inductor = (input(\"- Entrez la valeur de l'inductance (L) en mH: \"))\n",
        "        Inductor = float(Inductor)\n",
        "\n",
        "\n",
        "    jumpPrinter(2,True)\n",
        "  \n",
        "\n",
        "    if(Resistor_Emmit & Capacity_Emmit & Inductor_Emmit ) :\n",
        "        return  Resistor, Capacity, Inductor\n",
        "\n",
        "    elif (Resistor_Emmit & Capacity_Emmit):\n",
        "        return Resistor,Capacity\n",
        "\n",
        "    elif (Resistor_Emmit & Inductor_Emmit ):\n",
        "        return Resistor,Inductor\n",
        "\n",
        "    elif (Capacity_Emmit & Inductor_Emmit):\n",
        "        return Capacity,Inductor\n",
        "\n",
        "    elif Capacity_Emmit:\n",
        "        return Capacity\n",
        "\n",
        "    elif Inductor_Emmit:\n",
        "        return Inductor\n",
        "\n",
        "    elif Resistor_Emmit:\n",
        "        return Resistor\n",
        "\n",
        "    else:\n",
        "        print(\"Error\")\n"
      ],
      "metadata": {
        "id": "s798HBHuNjrX"
      },
      "execution_count": null,
      "outputs": []
    },
    {
      "cell_type": "markdown",
      "source": [
        "```markdown\n",
        ">> Définition d'une fonction pour les conditions initiales\n",
        "```"
      ],
      "metadata": {
        "id": "DBAMnJZ9XRwj"
      }
    },
    {
      "cell_type": "code",
      "source": [
        "t0 = \"IS NOT DEFINED\"\n",
        "tf = \"IS NOT DEFINED\"\n",
        "VO = \"IS NOT DEFINED\"\n",
        "\n",
        "\n",
        "\n",
        "def initialTime():\n",
        "\n",
        "    print(Back.RED + Fore.WHITE + \"Merci d'entrer un entier ou float positif, pour la variable suivante !\")\n",
        "    jumpPrinter(1,True)\n",
        "    print(Back.BLACK)\n",
        "\n",
        "    initialTime = \"IS NOT DEFINED\"\n",
        "\n",
        "    while( (isfloat(initialTime) == False) ):\n",
        "        initialTime = (input(\"- Entrez la valeur du temps à l'instant t0 en s : \"))\n",
        "    initialTime = float(initialTime)\n",
        "\n",
        "    jumpPrinter(2,True)\n",
        "\n",
        "    return initialTime\n",
        "\n",
        "\n",
        "def initialGenerator():\n",
        "\n",
        "    print(Back.RED + Fore.WHITE + \"Merci d'entrer un entier ou float positif, pour la variable suivante !\")\n",
        "    jumpPrinter(1,True)\n",
        "    print(Back.BLACK)\n",
        "\n",
        "    initialGenerator = \"IS NOT DEFINED\"\n",
        "\n",
        "   \n",
        "    while( (isfloat(initialGenerator) == False) ):\n",
        "        initialGenerator = (input(\"- Entrez la valeur de la tension de sortie qui équivaut à la tension d'entrée à t0 en V : \"))\n",
        "    initialGenerator = float(initialGenerator)\n",
        "\n",
        "    jumpPrinter(2,True)\n",
        "\n",
        "    return initialGenerator\n",
        "\n",
        "def endTime():\n",
        "\n",
        "    print(Back.RED + Fore.WHITE + \"Merci d'entrer un entier ou float positif, pour la variable suivante !\")\n",
        "    jumpPrinter(1,True)\n",
        "    print(Back.BLACK)\n",
        "\n",
        "    endTime = \"IS NOT DEFINED\"\n",
        "\n",
        "    print(\"Il faut impérativement définir un temps final pour que le calcul soit effecter par la machine, une valeur infinie est impossible pour lui à calculer.\")\n",
        "    print(\"0.001 secondes permet de voir l'effet sur le graph\")\n",
        "\n",
        "    while( (isfloat(endTime) == False) ):\n",
        "        endTime = (input(\"- Entrez la valeur du temps à l'instant tf en s : \"))\n",
        "    endTime = float(endTime)\n",
        "\n",
        "    jumpPrinter(2,True)\n",
        "\n",
        "    return endTime"
      ],
      "metadata": {
        "id": "Xr2XLM3PXVmS"
      },
      "execution_count": null,
      "outputs": []
    },
    {
      "cell_type": "markdown",
      "source": [
        "```markdown\n",
        ">> Appel des fonctions -- Paramètrage.\n",
        "```"
      ],
      "metadata": {
        "id": "K5WZBr7CXIkj"
      }
    },
    {
      "cell_type": "code",
      "source": [
        "valueOfR, valueOfC = queryDipole(True,True,False)\n",
        "\n",
        "jumpPrinter(2,True)\n",
        "print(Style.BRIGHT + Fore.YELLOW + \"Les dipôles sont respectivement : \",valueOfR,\" Ω & \",valueOfC,\" nF.\")\n",
        "resetPrinter() "
      ],
      "metadata": {
        "colab": {
          "base_uri": "https://localhost:8080/"
        },
        "id": "vXlryIwdTYwN",
        "outputId": "ec09d31c-56fc-4b91-99fc-7a287db39a34"
      },
      "execution_count": null,
      "outputs": [
        {
          "output_type": "stream",
          "name": "stdout",
          "text": [
            "\u001b[41m\u001b[37mMerci d'entrer un entier ou float positif, pour les variables suivantes !\n",
            "\u001b[0m\n",
            "\n",
            "\n",
            "\u001b[40m\n",
            "- Entrez la valeur de la résistance (R) en Ω : 10000\n",
            "- Entrez la valeur du condensateur (C) en nF: 15\n",
            "\u001b[0m\n",
            "\n",
            "\n",
            "\n",
            "\n",
            "\u001b[0m\n",
            "\n",
            "\n",
            "\n",
            "\n",
            "\u001b[1m\u001b[33mLes dipôles sont respectivement :  10000.0  Ω &  15.0  nF.\n",
            "\u001b[0m\n"
          ]
        }
      ]
    },
    {
      "cell_type": "code",
      "source": [
        "valueOfG = queryGeneratorVoltage()\n",
        "jumpPrinter(2,True)\n",
        "print(Style.BRIGHT + Fore.YELLOW + \"La tension du générateur est de : \",valueOfG,\" V.\")\n",
        "resetPrinter() "
      ],
      "metadata": {
        "colab": {
          "base_uri": "https://localhost:8080/"
        },
        "id": "2Eb6xuVaVILs",
        "outputId": "e10c06c6-aa9b-4af8-f25b-4c7f4d958227"
      },
      "execution_count": null,
      "outputs": [
        {
          "output_type": "stream",
          "name": "stdout",
          "text": [
            "\u001b[41m\u001b[37mMerci d'entrer un entier ou float positif, pour les variables suivantes !\n",
            "\u001b[0m\n",
            "\n",
            "\n",
            "\u001b[40m\n",
            "- Entrez la valeur du générateur e(t) en V : 5\n",
            "\u001b[0m\n",
            "\n",
            "\n",
            "\n",
            "\n",
            "\u001b[0m\n",
            "\n",
            "\n",
            "\n",
            "\n",
            "\u001b[1m\u001b[33mLa tension du générateur est de :  5.0  V.\n",
            "\u001b[0m\n"
          ]
        }
      ]
    },
    {
      "cell_type": "code",
      "source": [
        "t0,tf,VO = initialTime(),endTime(),initialGenerator()\n",
        "\n",
        "jumpPrinter(2,True)\n",
        "print(Style.BRIGHT + Fore.YELLOW + \"Les valeurs sont respectivement : \",t0,\" s, \",tf,\" s & \",VO,\" V.\")\n",
        "resetPrinter() "
      ],
      "metadata": {
        "colab": {
          "base_uri": "https://localhost:8080/"
        },
        "id": "cx5vHc9MYRWl",
        "outputId": "88c31f66-abb8-4760-cc4b-07ae545f3483"
      },
      "execution_count": null,
      "outputs": [
        {
          "output_type": "stream",
          "name": "stdout",
          "text": [
            "\u001b[41m\u001b[37mMerci d'entrer un entier ou float positif, pour la variable suivante !\n",
            "\u001b[0m\n",
            "\n",
            "\n",
            "\u001b[40m\n",
            "- Entrez la valeur du temps à l'instant t0 en s : 0\n",
            "\u001b[0m\n",
            "\n",
            "\n",
            "\n",
            "\n",
            "\u001b[41m\u001b[37mMerci d'entrer un entier ou float positif, pour la variable suivante !\n",
            "\u001b[0m\n",
            "\n",
            "\n",
            "\u001b[40m\n",
            "Il faut impérativement définir un temps final pour que le calcul soit effecter par la machine, une valeur infinie est impossible pour lui à calculer.\n",
            "0.001 secondes permet de voir l'effet sur le graph\n",
            "- Entrez la valeur du temps à l'instant tf en s : 0.001\n",
            "\u001b[0m\n",
            "\n",
            "\n",
            "\n",
            "\n",
            "\u001b[41m\u001b[37mMerci d'entrer un entier ou float positif, pour la variable suivante !\n",
            "\u001b[0m\n",
            "\n",
            "\n",
            "\u001b[40m\n",
            "- Entrez la valeur de la tension de sortie qui équivaut à la tension d'entrée à t0 en V : 0\n",
            "\u001b[0m\n",
            "\n",
            "\n",
            "\n",
            "\n",
            "\u001b[0m\n",
            "\n",
            "\n",
            "\n",
            "\n",
            "\u001b[1m\u001b[33mLes valeurs sont respectivement :  0.0  s,  0.001  s &  0.0  V.\n",
            "\u001b[0m\n"
          ]
        }
      ]
    },
    {
      "cell_type": "markdown",
      "source": [
        "II - Méthode Numérique"
      ],
      "metadata": {
        "id": "X-dLO8Mncr2Z"
      }
    },
    {
      "cell_type": "markdown",
      "source": [
        "Pour les besoins du calcul suivants, il nous faut séparer la dérivé des autres fonction, ce qui nous donne :           \n",
        "\n",
        "$$\n",
        "e(t) = RC*\\frac{dVs(t)}{dt} + Vs(t)\n",
        "$$\n",
        "\n",
        "$$\n",
        "e(t) - Vs(t)= RC*\\frac{dVs(t)}{dt} \n",
        "$$\n",
        "\n",
        "$$\n",
        "\\frac{e(t) - Vs(t)}{RC} = \\frac{dVs(t)}{dt} \n",
        "$$"
      ],
      "metadata": {
        "id": "sXPp54JaSq_l"
      }
    },
    {
      "cell_type": "code",
      "source": [
        "print(\"R (Ω): \",valueOfR,\" & C (nF) :\",valueOfC)\n",
        "\n",
        "print(\"t0 (s) :\",t0,\" & tf (s) :\",tf,\" & VO (V) : \",VO)\n",
        "\n",
        "def e():\n",
        "    return valueOfG\n",
        "\n",
        "def equation_Diff(t,vs):\n",
        "    return (5-vs)/(valueOfR* (valueOfC*10**-9) )\n",
        "\n",
        "tension = solve_ivp(equation_Diff, [t0, tf], [VO])\n",
        "\n",
        "print(tension)"
      ],
      "metadata": {
        "colab": {
          "base_uri": "https://localhost:8080/"
        },
        "id": "KXRIjDV1Sart",
        "outputId": "240c05db-cf89-4974-9d62-42dafb06abe6"
      },
      "execution_count": null,
      "outputs": [
        {
          "output_type": "stream",
          "name": "stdout",
          "text": [
            "R (Ω):  10000.0  & C (nF) : 15.0\n",
            "t0 (s) : 0.0  & tf (s) : 0.001  & VO (V) :  0.0\n",
            "  message: 'The solver successfully reached the end of the integration interval.'\n",
            "     nfev: 44\n",
            "     njev: 0\n",
            "      nlu: 0\n",
            "      sol: None\n",
            "   status: 0\n",
            "  success: True\n",
            "        t: array([0.00000000e+00, 1.00000000e-04, 2.15902961e-04, 3.59687640e-04,\n",
            "       5.31205465e-04, 7.39018063e-04, 9.96999179e-04, 1.00000000e-03])\n",
            " t_events: None\n",
            "        y: array([[0.        , 2.43273891, 3.81428546, 4.54493464, 4.85447892,\n",
            "        4.9630615 , 4.99285167, 4.99299325]])\n",
            " y_events: None\n"
          ]
        }
      ]
    },
    {
      "cell_type": "code",
      "source": [
        "import matplotlib.pyplot as plt\n",
        "\n",
        "# Tracé de la tension aux bornes du condensateur\n",
        "plt.plot(tension.t, tension.y[0], label=\"u(t)\")\n",
        "plt.ylabel('u(t) en V')\n",
        "plt.xlabel(\"Temps (s)\")\n",
        "plt.title(\"Tension aux bornes du condensateur\")\n",
        "plt.grid(which=\"both\")\n",
        "plt.legend()\n",
        "plt.show()"
      ],
      "metadata": {
        "colab": {
          "base_uri": "https://localhost:8080/",
          "height": 295
        },
        "id": "g4wmjkPDZKja",
        "outputId": "0b712fe6-f629-4240-8e09-4ec0c8387a4d"
      },
      "execution_count": null,
      "outputs": [
        {
          "output_type": "display_data",
          "data": {
            "text/plain": [
              "<Figure size 432x288 with 1 Axes>"
            ],
            "image/png": "[encoded data removed]"
          },
          "metadata": {
            "needs_background": "light"
          }
        }
      ]
    },
    {
      "cell_type": "markdown",
      "source": [
        "III- Méthode Pratique"
      ],
      "metadata": {
        "id": "a0aH67GkcuWo"
      }
    },
    {
      "cell_type": "markdown",
      "source": [
        "```markdown\n",
        ">> Reprenons nos calculs\n",
        "```\n",
        "\n",
        "\n",
        "$$\n",
        "e(t) = RC*\\frac{dVs(t)}{dt} + Vs(t)\n",
        "$$\n",
        "\n",
        "Résoudons l'équations sans second membre \n",
        "\n",
        "$$\n",
        "V_{sg}(t) = K*e^\\frac{-t}{RC} \n",
        "$$\n",
        "\n",
        "\n",
        "\n",
        "Résoudons l'équation particulière avec e(t) = 5V :\n",
        "\n",
        "$$\n",
        "V_{sp}(t) = \\frac{cst}{b} \n",
        "$$\n",
        "\n",
        "b = 1 donc :\n",
        "\n",
        "$$\n",
        "V_{sp}(t) = cst\n",
        "$$\n",
        "\n",
        "Injectons : \n",
        "\n",
        "$$\n",
        "e(t) = RC*\\frac{dV_{sp}(t)}{dt} + V_{sp}(t) \n",
        "$$\n",
        "\n",
        "$$\n",
        "e(t) = RC*\\frac{dcst}{dt} + cst \n",
        "$$\n",
        "\n",
        "Ce qui nous donne :\n",
        "\n",
        "$$\n",
        "e(t) = cst\n",
        "$$\n",
        "\n",
        "$$\n",
        "V_{sp}(t) = 5\n",
        "$$\n",
        "\n",
        "Soit la solution final : \n",
        "\n",
        "$$\n",
        "V_{sf}(t) = K*e^\\frac{-t}{RC} + 5 \n",
        "$$\n",
        "\n"
      ],
      "metadata": {
        "id": "2gbOmSNtwCWs"
      }
    },
    {
      "cell_type": "markdown",
      "source": [
        "Admettons désormais que à t0, Vo = 0V comme condtion initiale ( Vs(0) = 0) : \n",
        "\n",
        "$$\n",
        "V_{sf}(t) = K*e^\\frac{-t}{RC} + 5 \n",
        "$$\n",
        "\n",
        "$$\n",
        "0 = K*e^\\frac{-0}{RC} + 5 \n",
        "$$\n",
        "\n",
        "$$\n",
        "0 = K*e^0 + 5 \n",
        "$$\n",
        "\n",
        "$$\n",
        "0 = K + 5 \n",
        "$$\n",
        "\n",
        "$$\n",
        "K = - 5 \n",
        "$$\n",
        "\n",
        "Ce qui nous donne :  \n",
        "\n",
        "$$\n",
        "V_{s}(t) = 5*(-e^\\frac{-t}{RC} + 1) \n",
        "$$\n",
        "\n",
        "$$\n",
        "V'_{s}(t) = \\frac{5}{RC}*e^\\frac{-t}{RC} \n",
        "$$"
      ],
      "metadata": {
        "id": "nlme-oichW46"
      }
    },
    {
      "cell_type": "markdown",
      "source": [
        "Tangeante :     \n",
        "\n",
        "$$\n",
        "f'(a)(x-a)+f(a)\n",
        "$$\n",
        "\n",
        "Prenons x(0,0) & y(RC,e(t)) :\n",
        "\n",
        "$$\n",
        "\\frac{yb-ya}{xb-xa}(t-a)+ya\n",
        "$$\n",
        "\n",
        "\n",
        "$$\n",
        "f(0) = \\frac{5-0}{τ-0}(t-0)+0\n",
        "$$\n",
        "\n",
        "$$\n",
        "f(0) = \\frac{5}{RC}*t\n",
        "$$"
      ],
      "metadata": {
        "id": "oijn_K7nkufb"
      }
    },
    {
      "cell_type": "markdown",
      "source": [
        "```markdown\n",
        ">> Calcul des fonctions associées, de sa dérivé, et de ses valeurs en 5 points\n",
        "```"
      ],
      "metadata": {
        "id": "Dgb_B_7YmKqJ"
      }
    },
    {
      "cell_type": "code",
      "source": [
        "τ = valueOfR * valueOfC*10**-9\n",
        "\n",
        "t = sp.Symbol('t')\n",
        "\n",
        "def function(t):\n",
        "    return 5*( -sp.exp(-t/(τ) ) + 1 )\n",
        "\n",
        "functionDerivate = sp.diff(function(t),t)\n",
        "\n",
        "functionLimit = sp.limit(function(t), t, sym.oo)\n",
        "\n",
        "\n",
        "print(Style.BRIGHT + Fore.YELLOW + \"Function : \",function(t))\n",
        "\n",
        "print(\"Dérivée : \",functionDerivate)\n",
        "\n",
        "print(\"Limite : \",functionLimit)\n",
        "\n",
        "jumpPrinter(2,True)\n",
        "\n",
        "print(Style.BRIGHT + Fore.MAGENTA +\"Tension :\")\n",
        "print(\"En f(0) : \", function(0), \" V.\")\n",
        "print(\"En f(τ) : \", function(τ), \" V.\")\n",
        "print(\"En f(3*τ) : \", function(3*τ), \" V.\")\n",
        "print(\"En f(5*τ) : \", function(5*τ), \" V.\")\n",
        "print(\"En f(10*τ) : \", function(10*τ), \" V.\")\n",
        "jumpPrinter(1,True)\n",
        "\n",
        "\n",
        "print(Style.BRIGHT + Fore.RED +\"Temps :\")\n",
        "print(\"En f(0) : \", (0), \" s.\")\n",
        "print(\"En f(τ) : \", (τ), \" s.\")\n",
        "print(\"En f(3*τ) : \", (3*τ), \" s.\")\n",
        "print(\"En f(5*τ) : \", (5*τ), \" s.\")\n",
        "print(\"En f(10*τ) : \", (10*τ), \" s.\")\n",
        "\n"
      ],
      "metadata": {
        "colab": {
          "base_uri": "https://localhost:8080/"
        },
        "id": "OyIO03clXCxW",
        "outputId": "feaf3270-5226-4873-ac87-feee3b3b609a"
      },
      "execution_count": null,
      "outputs": [
        {
          "output_type": "stream",
          "name": "stdout",
          "text": [
            "\u001b[1m\u001b[33mFunction :  5 - 5*exp(-6666.66666666667*t)\n",
            "Dérivée :  33333.3333333333*exp(-6666.66666666667*t)\n",
            "Limite :  5\n",
            "\u001b[0m\n",
            "\n",
            "\n",
            "\n",
            "\n",
            "\u001b[1m\u001b[35mTension :\n",
            "En f(0) :  0  V.\n",
            "En f(τ) :  3.16060279414279  V.\n",
            "En f(3*τ) :  4.75106465816068  V.\n",
            "En f(5*τ) :  4.96631026500457  V.\n",
            "En f(10*τ) :  4.99977300035119  V.\n",
            "\u001b[0m\n",
            "\n",
            "\n",
            "\u001b[1m\u001b[31mTemps :\n",
            "En f(0) :  0  s.\n",
            "En f(τ) :  0.00015000000000000001  s.\n",
            "En f(3*τ) :  0.00045000000000000004  s.\n",
            "En f(5*τ) :  0.00075  s.\n",
            "En f(10*τ) :  0.0015  s.\n"
          ]
        }
      ]
    },
    {
      "cell_type": "markdown",
      "source": [
        "```markdown\n",
        ">> Tracé du graphique et de ses paramètres\n",
        "```"
      ],
      "metadata": {
        "id": "us6NlKNM5Eap"
      }
    },
    {
      "cell_type": "code",
      "source": [
        "\n",
        "plt.title(\"Régime Transitoire Circuit RC\") # mettre un titre à la figure\n",
        "x = np.array([0, τ, 3*τ, 5*τ, 10*τ], dtype=float)\n",
        "y = np.array([function(0), function(τ), function(3*τ), function(5*τ) , function(10*τ)], dtype=float)\n",
        "\n",
        "plt.scatter(0, function(0), s = 50, c = 'red', marker = '+', linewidth = 5)\n",
        "plt.scatter(τ, function(τ), s = 50, c = 'red', marker = '+', linewidth = 5)\n",
        "plt.scatter(3*τ, function(3*τ), s = 50, c = 'red', marker = '+', linewidth = 5)\n",
        "plt.scatter(5*τ, function(5*τ), s = 50, c = 'red', marker = '+', linewidth = 5)\n",
        "plt.scatter(10*τ, function(10*τ), s = 50, c = 'red', marker = '+', linewidth = 5)\n",
        "\n",
        "plt.ylim(0,5.2)\n",
        "\n",
        "plt.text(0.40,1.2 , 'Transitoire', alpha=0.5, fontsize=20, color = 'b',transform=ax.transAxes)\n",
        "plt.text(1.10,1.2 , 'Permanent', alpha=0.5, fontsize=20, color = 'r',transform=ax.transAxes)\n",
        "\n",
        "plt.plot(x, y)\n",
        "\n",
        "w = np.array([0, τ])\n",
        "z = np.array([0, 5])\n",
        "\n",
        "plt.plot(w, z,linestyle=\"dashed\")\n",
        "\n",
        "plt.xlabel(\"Temps (s)\") # mettre un nom à l’axe des abscisses\n",
        "plt.ylabel(\"Tension (V)\") # mettre un nom à l’axe des ordonn ées\n",
        "plt.legend([\"f(x)\", \"Tangente\"]) # donne une lé gende au graphique\n",
        "\n",
        "\n",
        "plt.rcParams[\"figure.figsize\"] = (10, 12)\n",
        "plt.show()"
      ],
      "metadata": {
        "colab": {
          "base_uri": "https://localhost:8080/",
          "height": 730
        },
        "id": "a_cs9Og2lOcx",
        "outputId": "3b6599af-a8c2-4f0b-d6af-ccfa79c43150"
      },
      "execution_count": null,
      "outputs": [
        {
          "output_type": "display_data",
          "data": {
            "text/plain": [
              "<Figure size 720x864 with 1 Axes>"
            ],
            "image/png": "[encoded data removed]"
          },
          "metadata": {
            "needs_background": "light"
          }
        }
      ]
    },
    {
      "cell_type": "markdown",
      "source": [
        "```markdown\n",
        ">> Affichage des résultats\n",
        "```"
      ],
      "metadata": {
        "id": "XLotfOfn5L_I"
      }
    },
    {
      "cell_type": "code",
      "source": [
        "print(\" _________________________________\")\n",
        "print(\"|   t    |    s    |   U   |   %  |\")\n",
        "print(\"|---------------------------------|\")\n",
        "print(\"| À 0*τ  | 0.00000 | 0.00  | 0.00 |\")\n",
        "print(\"| À 1*τ  | 0.00010 | 3.16  | 63.2 |\")\n",
        "print(\"| À 3*τ  | 0.00040 | 4.75  | 95.0 |\")\n",
        "print(\"| À 5*τ  | 0.00075 | 4.96  | 99.2 |\")\n",
        "print(\"|_________________________________|\")\n",
        "\n"
      ],
      "metadata": {
        "colab": {
          "base_uri": "https://localhost:8080/"
        },
        "id": "--8zjEMUsDaP",
        "outputId": "bdf3f4c0-889f-4c5a-f00b-19bec5346864"
      },
      "execution_count": null,
      "outputs": [
        {
          "output_type": "stream",
          "name": "stdout",
          "text": [
            " _________________________________\n",
            "|   t    |    s    |   U   |   %  |\n",
            "|---------------------------------|\n",
            "| À 0*τ  | 0.00000 | 0.00  | 0.00 |\n",
            "| À 1*τ  | 0.00010 | 3.16  | 63.2 |\n",
            "| À 3*τ  | 0.00040 | 4.75  | 95.0 |\n",
            "| À 5*τ  | 0.00075 | 4.96  | 99.2 |\n",
            "| À 10*τ | 0.00150 | 4.99  | 99.8 |\n",
            "|_________________________________|\n"
          ]
        }
      ]
    },
    {
      "cell_type": "markdown",
      "source": [
        "```markdown\n",
        ">> Equation de la tangante\n",
        "```"
      ],
      "metadata": {
        "id": "tuhEesdI6QLJ"
      }
    },
    {
      "cell_type": "code",
      "source": [
        "y = [τ,5]\n",
        "x = [0,0]\n",
        "#f'(a)(x-a) + f(a)\n",
        "tangeante = ( ( y[1] - x[1] ) / ( y[0] - x[0] ) ) * (t-0) + 0\n",
        "\n",
        "print(tangeante)"
      ],
      "metadata": {
        "colab": {
          "base_uri": "https://localhost:8080/"
        },
        "id": "likK3nYuZYnv",
        "outputId": "abc2ecd0-0b2e-42b6-b309-5e74e8cfea5a"
      },
      "execution_count": null,
      "outputs": [
        {
          "output_type": "stream",
          "name": "stdout",
          "text": [
            "33333.3333333333*t\n"
          ]
        }
      ]
    }
  ]
}